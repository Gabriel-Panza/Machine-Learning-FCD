{
 "cells": [
  {
   "cell_type": "code",
   "execution_count": 2,
   "metadata": {},
   "outputs": [],
   "source": [
    "import nibabel as nib\n",
    "import matplotlib.pyplot as plt\n",
    "import numpy as np\n",
    "import os "
   ]
  },
  {
   "cell_type": "code",
   "execution_count": null,
   "metadata": {},
   "outputs": [],
   "source": [
    "base = 'Novo_Contralateral'\n",
    "\n",
    "for patient in os.listdir(base):\n",
    "    folder_left = os.path.join(base, patient, 'left')\n",
    "    folder_right = os.path.join(base, patient, 'right')\n",
    "    for slices in os.listdir(folder_left):\n",
    "        path = os.path.join(folder_left, slices)\n",
    "        pair = os.listdir(path)\n",
    "        nib1 = nib.load(os.path.join(path, pair[0])).get_fdata()\n",
    "        nib2 = nib.load(os.path.join(path, pair[1])).get_fdata()\n",
    "        plt.imshow(nib1, cmap='gray')\n",
    "        plt.show()\n",
    "        plt.imshow(nib2, cmap='gray')\n",
    "        plt.show()"
   ]
  }
 ],
 "metadata": {
  "kernelspec": {
   "display_name": "Python 3",
   "language": "python",
   "name": "python3"
  },
  "language_info": {
   "codemirror_mode": {
    "name": "ipython",
    "version": 3
   },
   "file_extension": ".py",
   "mimetype": "text/x-python",
   "name": "python",
   "nbconvert_exporter": "python",
   "pygments_lexer": "ipython3",
   "version": "3.12.7"
  }
 },
 "nbformat": 4,
 "nbformat_minor": 2
}
