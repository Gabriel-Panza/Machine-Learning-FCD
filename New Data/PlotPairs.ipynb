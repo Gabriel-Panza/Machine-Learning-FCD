{
 "cells": [
  {
   "cell_type": "code",
   "execution_count": 1,
   "metadata": {},
   "outputs": [],
   "source": [
    "import nibabel as nib\n",
    "import matplotlib.pyplot as plt\n",
    "import numpy as np\n",
    "import os "
   ]
  },
  {
   "cell_type": "code",
   "execution_count": null,
   "metadata": {},
   "outputs": [],
   "source": [
    "base = 'Novo_Contralateral'\n",
    "\n",
    "for patient in ['sub-00H10']:\n",
    "    folder_left = os.path.join(base, patient, 'left')\n",
    "    folder_right = os.path.join(base, patient, 'right')\n",
    "    for slices in os.listdir(folder_left):\n",
    "        path_left = os.path.join(folder_left, slices)\n",
    "        path_right = os.path.join(folder_right, slices)\n",
    "        for item in os.listdir(path_left):\n",
    "            name = item.removesuffix(\".nii.gz\")\n",
    "            idx = name.split(\"_\")[1]\n",
    "            name_right = f\"right_{idx}.nii.gz\"\n",
    "            nib1 = nib.load(os.path.join(path_left, item)).get_fdata()\n",
    "            nib2 = nib.load(os.path.join(path_right, name_right)).get_fdata()\n",
    "            plt.title(f\"{item}\")\n",
    "            plt.imshow(nib1, cmap='gray')\n",
    "            plt.show()\n",
    "            plt.title(f\"{name_right}\")\n",
    "            plt.imshow(nib2, cmap='gray')\n",
    "            plt.show()"
   ]
  }
 ],
 "metadata": {
  "kernelspec": {
   "display_name": "Python 3",
   "language": "python",
   "name": "python3"
  },
  "language_info": {
   "codemirror_mode": {
    "name": "ipython",
    "version": 3
   },
   "file_extension": ".py",
   "mimetype": "text/x-python",
   "name": "python",
   "nbconvert_exporter": "python",
   "pygments_lexer": "ipython3",
   "version": "3.11.9"
  }
 },
 "nbformat": 4,
 "nbformat_minor": 2
}
