{
 "cells": [
  {
   "cell_type": "markdown",
   "id": "81807332",
   "metadata": {},
   "source": [
    "### Libraries Import"
   ]
  },
  {
   "cell_type": "code",
   "execution_count": 1,
   "id": "8db7e994",
   "metadata": {},
   "outputs": [],
   "source": [
    "# Importa todas as bibliotecas\n",
    "import nibabel as nib\n",
    "import numpy as np\n",
    "import SimpleITK as sitk\n",
    "import os\n",
    "import tensorflow as tf\n",
    "from keras import layers\n",
    "from keras.models import Model, Sequential\n",
    "from sklearn.metrics import confusion_matrix, classification_report, ConfusionMatrixDisplay\n",
    "from sklearn.model_selection import train_test_split\n",
    "from scipy.ndimage import zoom\n",
    "import matplotlib.pyplot as plt\n",
    "from ipywidgets import interact, IntSlider"
   ]
  },
  {
   "cell_type": "markdown",
   "id": "22644475",
   "metadata": {},
   "source": [
    "### Aux. Functions"
   ]
  },
  {
   "cell_type": "code",
   "execution_count": 2,
   "id": "30104676",
   "metadata": {},
   "outputs": [],
   "source": [
    "def load_data(image_dir, mask_dir):\n",
    "    \"\"\"\n",
    "    Encontra e pareia os caminhos das imagens com suas \n",
    "    respectivas máscaras de segmentação.\n",
    "    \"\"\"\n",
    "    file_list = []\n",
    "\n",
    "    # Garante que os arquivos estão ordenados para o pareamento correto\n",
    "    image_files = sorted(os.listdir(image_dir))\n",
    "    mask_files = sorted(os.listdir(mask_dir))\n",
    "\n",
    "    for image_file, mask_file in zip(image_files, mask_files):\n",
    "        image_path = os.path.join(image_dir, image_file)\n",
    "        mask_path = os.path.join(mask_dir, mask_file)\n",
    "        \n",
    "        if os.path.exists(mask_path):\n",
    "            # Ler a máscara para determinar o rótulo\n",
    "            mask_itk = sitk.ReadImage(mask_path)\n",
    "            mask_np = sitk.GetArrayFromImage(mask_itk)\n",
    "            \n",
    "            # O rótulo é 1 se houver qualquer pixel não-zero na máscara, senão 0\n",
    "            label = 1 if np.sum(mask_np) > 0 else 0\n",
    "            \n",
    "            file_list.append({\n",
    "                \"image\": image_path,\n",
    "                \"mask\": mask_path,\n",
    "                \"label\": label\n",
    "            })\n",
    "        else:\n",
    "            print(f\"Aviso: Máscara não encontrada para {image_path}\")\n",
    "            \n",
    "    return file_list\n",
    "\n",
    "def load_data_OpenNeuro(image_dir, file_list, label):\n",
    "    \"\"\"\n",
    "    Encontra e pareia os caminhos das imagens com suas \n",
    "    respectivas máscaras de segmentação.\n",
    "    \"\"\"\n",
    "\n",
    "    # Garante que os arquivos estão ordenados para o pareamento correto\n",
    "    image_files = sorted(os.listdir(image_dir))\n",
    "\n",
    "    for image_file in image_files:\n",
    "        image_path = os.path.join(image_dir, image_file)\n",
    "            \n",
    "        file_list.append({\n",
    "            \"image\": image_path,\n",
    "            \"mask\": None,\n",
    "            \"label\": label\n",
    "        })\n",
    "            \n",
    "    return file_list"
   ]
  },
  {
   "cell_type": "code",
   "execution_count": 3,
   "id": "7d86e27d",
   "metadata": {},
   "outputs": [],
   "source": [
    "# --- Hiperparâmetros ---\n",
    "INPUT_SHAPE = (150, 150, 150, 2)\n",
    "TARGET_SHAPE_3D = (150, 150, 150)\n",
    "NUM_PATCHES = INPUT_SHAPE[2]\n",
    "\n",
    "POOL_SIZE = 3\n",
    "PATCH_H_REDIM = INPUT_SHAPE[0] // POOL_SIZE\n",
    "PATCH_W_REDIM = INPUT_SHAPE[1] // POOL_SIZE\n",
    "PATCH_CHANNELS = INPUT_SHAPE[3]\n",
    "PATCH_DIM = PATCH_H_REDIM * PATCH_W_REDIM * PATCH_CHANNELS\n",
    "\n",
    "PROJECTION_DIM = 768\n",
    "NUM_HEADS = 12\n",
    "TRANSFORMER_LAYERS = 8\n",
    "MLP_DIM = 3072\n",
    "\n",
    "\n",
    "# --- Bloco Transformer ---\n",
    "def build_transformer_block(x, num_heads, projection_dim, mlp_dim, dropout=0.3):\n",
    "    residual_1 = x\n",
    "    x_norm1 = layers.LayerNormalization(epsilon=1e-6)(x)\n",
    "    attention_output = layers.MultiHeadAttention(\n",
    "        num_heads=num_heads, \n",
    "        key_dim=projection_dim // num_heads, \n",
    "        dropout=dropout\n",
    "    )(x_norm1, x_norm1)\n",
    "    x = layers.Add()([attention_output, residual_1])\n",
    "    \n",
    "    residual_2 = x\n",
    "    x_norm2 = layers.LayerNormalization(epsilon=1e-6)(x)\n",
    "    x = layers.Dense(mlp_dim, activation=\"gelu\")(x_norm2)\n",
    "    x = layers.Dropout(dropout)(x)\n",
    "    x = layers.Dense(projection_dim)(x)\n",
    "    x = layers.Dropout(dropout)(x)\n",
    "    x = layers.Add()([x, residual_2])\n",
    "    return x\n",
    "\n",
    "# --- ViT \"Clássico\" com Redimensionamento de Patch ---\n",
    "def build_vit_3d_classic(input_shape, patch_dim=PATCH_DIM, num_patches=NUM_PATCHES, \n",
    "                                 projection_dim=PROJECTION_DIM, transformer_layers=TRANSFORMER_LAYERS):\n",
    "    \n",
    "    inputs = layers.Input(shape=input_shape)\n",
    "    \n",
    "    # 1. Permutar os eixos para (Batch, D, H, W, C)\n",
    "    x = layers.Permute((3, 1, 2, 4))(inputs)\n",
    "\n",
    "    # 2. Reduzir a resolução de cada fatia (patch)\n",
    "    slice_resizer = Sequential([\n",
    "        layers.Input(shape=(input_shape[0], input_shape[1], input_shape[3])), # (150, 150, 2)\n",
    "        layers.AveragePooling2D(pool_size=POOL_SIZE) # (30, 30, 2)\n",
    "    ], name=\"slice_resizer\")\n",
    "    x = layers.TimeDistributed(slice_resizer)(x)\n",
    "\n",
    "    # 3. Achatar cada fatia redimensionada\n",
    "    patches = layers.Reshape((num_patches, patch_dim))(x)\n",
    "    \n",
    "    # 4. Projeção Linear (Patch Embedding)\n",
    "    patch_embeddings = layers.Dense(units=projection_dim)(patches)\n",
    "    \n",
    "    # 5. Adicionar Positional Embedding\n",
    "    positions = tf.range(start=0, limit=num_patches, delta=1)\n",
    "    position_embedding = layers.Embedding(\n",
    "        input_dim=num_patches, output_dim=projection_dim\n",
    "    )(positions)\n",
    "    \n",
    "    encoded_patches = patch_embeddings + position_embedding\n",
    "    \n",
    "    # 6. Pilha de Encoders Transformer\n",
    "    x = encoded_patches\n",
    "    for _ in range(transformer_layers):\n",
    "        x = build_transformer_block(x, NUM_HEADS, PROJECTION_DIM, MLP_DIM)\n",
    "        \n",
    "    # 7. Cabeça de Classificação\n",
    "    x = layers.LayerNormalization(epsilon=1e-6)(x)\n",
    "    x = layers.GlobalAveragePooling1D()(x) \n",
    "    x = layers.Dropout(0.3)(x)\n",
    "    x = layers.Dense(128, activation=\"relu\")(x)\n",
    "    outputs = layers.Dense(1, activation=\"sigmoid\")(x)\n",
    "    \n",
    "    model = Model(inputs=inputs, outputs=outputs)\n",
    "    return model"
   ]
  },
  {
   "cell_type": "code",
   "execution_count": 4,
   "id": "7765bd0f",
   "metadata": {},
   "outputs": [],
   "source": [
    "# Função de plot do treinamento do modelo\n",
    "def plot_training_history(history):\n",
    "    plt.figure(figsize=(12, 4))\n",
    "\n",
    "    # Plot Loss\n",
    "    plt.subplot(1, 2, 1)\n",
    "    plt.plot(history.history['loss'], label='Training Loss')\n",
    "    if 'val_loss' in history.history:\n",
    "        plt.plot(history.history['val_loss'], label='Validation Loss')\n",
    "    plt.title('Loss Graphic')\n",
    "    plt.xlabel('Epochs')\n",
    "    plt.ylabel('Loss')\n",
    "    plt.legend()\n",
    "\n",
    "    # Plot Accuracy\n",
    "    plt.subplot(1, 2, 2)\n",
    "    plt.plot(history.history['accuracy'], label='Training Accuracy')\n",
    "    if 'val_accuracy' in history.history:\n",
    "        plt.plot(history.history['val_accuracy'], label='Validation Accuracy')\n",
    "    plt.title('Accuracy Graphic')\n",
    "    plt.xlabel('Epochs')\n",
    "    plt.ylabel('Accuracy')\n",
    "    plt.legend()\n",
    "\n",
    "    plt.show()\n",
    "\n",
    "# Função de plot da matriz de confusão\n",
    "def plot_confusion_matrix(y_true, y_pred):\n",
    "    cm = confusion_matrix(y_true, y_pred)\n",
    "    disp = ConfusionMatrixDisplay(confusion_matrix=cm)\n",
    "    disp.plot(cmap=plt.cm.Blues)\n",
    "    plt.title('Confusion Matrix')\n",
    "    plt.show()\n"
   ]
  },
  {
   "cell_type": "markdown",
   "id": "daadbb31",
   "metadata": {},
   "source": [
    "### Carregamento das imagens"
   ]
  },
  {
   "cell_type": "code",
   "execution_count": 5,
   "id": "e64a6d76",
   "metadata": {},
   "outputs": [],
   "source": [
    "# Carregar os pares de caminhos\n",
    "IMAGE_DIR = \"Patients_Displasya/T1\"\n",
    "IMAGE_DIR_CONTROL_OPENNEURO = \"Patients_Control_OpenNeuro/T1\"\n",
    "IMAGE_DIR_DISPLASYA_OPENNEURO = \"Patients_Displasya_OpenNeuro/T1\"\n",
    "\n",
    "MASK_DIR = \"Mascaras\"\n",
    "file_list_original = load_data(IMAGE_DIR, MASK_DIR)\n",
    "file_list = load_data_OpenNeuro(IMAGE_DIR_CONTROL_OPENNEURO, [], 0)\n",
    "file_list = load_data_OpenNeuro(IMAGE_DIR_DISPLASYA_OPENNEURO, file_list, 1)"
   ]
  },
  {
   "cell_type": "markdown",
   "id": "f62fe447",
   "metadata": {},
   "source": [
    "### Divisão das classes"
   ]
  },
  {
   "cell_type": "code",
   "execution_count": 6,
   "id": "64abd463",
   "metadata": {},
   "outputs": [
    {
     "name": "stdout",
     "output_type": "stream",
     "text": [
      "Total de amostras encontradas: 170\n",
      "Amostras com lesão (label 1): 85\n",
      "Amostras saudáveis (label 0): 85\n",
      "Amostras de treino: 127\n",
      "Amostras de validação: 43\n",
      "Amostras de teste: 41\n"
     ]
    }
   ],
   "source": [
    "# Verificar o balanceamento das classes\n",
    "labels = [item['label'] for item in file_list]\n",
    "print(f\"Total de amostras encontradas: {len(file_list)}\")\n",
    "print(f\"Amostras com lesão (label 1): {np.sum(labels)}\")\n",
    "print(f\"Amostras saudáveis (label 0): {len(labels) - np.sum(labels)}\")\n",
    "\n",
    "train_files, val_files = train_test_split(file_list, test_size=0.25, random_state=42, stratify=labels)\n",
    "\n",
    "print(f\"Amostras de treino: {len(train_files)}\")\n",
    "print(f\"Amostras de validação: {len(val_files)}\")\n",
    "print(f\"Amostras de teste: {len(file_list_original)}\")"
   ]
  },
  {
   "cell_type": "markdown",
   "id": "4d38d9c4",
   "metadata": {},
   "source": [
    "### Preparação do modelo + Treinamento"
   ]
  },
  {
   "cell_type": "code",
   "execution_count": 7,
   "id": "fcf94189",
   "metadata": {},
   "outputs": [
    {
     "name": "stdout",
     "output_type": "stream",
     "text": [
      "Model: \"model\"\n",
      "__________________________________________________________________________________________________\n",
      "Layer (type)                    Output Shape         Param #     Connected to                     \n",
      "==================================================================================================\n",
      "input_1 (InputLayer)            [(None, 150, 150, 15 0                                            \n",
      "__________________________________________________________________________________________________\n",
      "permute (Permute)               (None, 150, 150, 150 0           input_1[0][0]                    \n",
      "__________________________________________________________________________________________________\n",
      "time_distributed (TimeDistribut (None, 150, 50, 50,  0           permute[0][0]                    \n",
      "__________________________________________________________________________________________________\n",
      "reshape (Reshape)               (None, 150, 5000)    0           time_distributed[0][0]           \n",
      "__________________________________________________________________________________________________\n",
      "dense (Dense)                   (None, 150, 768)     3840768     reshape[0][0]                    \n",
      "__________________________________________________________________________________________________\n",
      "tf.__operators__.add (TFOpLambd (None, 150, 768)     0           dense[0][0]                      \n",
      "__________________________________________________________________________________________________\n",
      "layer_normalization (LayerNorma (None, 150, 768)     1536        tf.__operators__.add[0][0]       \n",
      "__________________________________________________________________________________________________\n",
      "multi_head_attention (MultiHead (None, 150, 768)     2362368     layer_normalization[0][0]        \n",
      "                                                                 layer_normalization[0][0]        \n",
      "__________________________________________________________________________________________________\n",
      "add (Add)                       (None, 150, 768)     0           multi_head_attention[0][0]       \n",
      "                                                                 tf.__operators__.add[0][0]       \n",
      "__________________________________________________________________________________________________\n",
      "layer_normalization_1 (LayerNor (None, 150, 768)     1536        add[0][0]                        \n",
      "__________________________________________________________________________________________________\n",
      "dense_1 (Dense)                 (None, 150, 3072)    2362368     layer_normalization_1[0][0]      \n",
      "__________________________________________________________________________________________________\n",
      "dropout (Dropout)               (None, 150, 3072)    0           dense_1[0][0]                    \n",
      "__________________________________________________________________________________________________\n",
      "dense_2 (Dense)                 (None, 150, 768)     2360064     dropout[0][0]                    \n",
      "__________________________________________________________________________________________________\n",
      "dropout_1 (Dropout)             (None, 150, 768)     0           dense_2[0][0]                    \n",
      "__________________________________________________________________________________________________\n",
      "add_1 (Add)                     (None, 150, 768)     0           dropout_1[0][0]                  \n",
      "                                                                 add[0][0]                        \n",
      "__________________________________________________________________________________________________\n",
      "layer_normalization_2 (LayerNor (None, 150, 768)     1536        add_1[0][0]                      \n",
      "__________________________________________________________________________________________________\n",
      "multi_head_attention_1 (MultiHe (None, 150, 768)     2362368     layer_normalization_2[0][0]      \n",
      "                                                                 layer_normalization_2[0][0]      \n",
      "__________________________________________________________________________________________________\n",
      "add_2 (Add)                     (None, 150, 768)     0           multi_head_attention_1[0][0]     \n",
      "                                                                 add_1[0][0]                      \n",
      "__________________________________________________________________________________________________\n",
      "layer_normalization_3 (LayerNor (None, 150, 768)     1536        add_2[0][0]                      \n",
      "__________________________________________________________________________________________________\n",
      "dense_3 (Dense)                 (None, 150, 3072)    2362368     layer_normalization_3[0][0]      \n",
      "__________________________________________________________________________________________________\n",
      "dropout_2 (Dropout)             (None, 150, 3072)    0           dense_3[0][0]                    \n",
      "__________________________________________________________________________________________________\n",
      "dense_4 (Dense)                 (None, 150, 768)     2360064     dropout_2[0][0]                  \n",
      "__________________________________________________________________________________________________\n",
      "dropout_3 (Dropout)             (None, 150, 768)     0           dense_4[0][0]                    \n",
      "__________________________________________________________________________________________________\n",
      "add_3 (Add)                     (None, 150, 768)     0           dropout_3[0][0]                  \n",
      "                                                                 add_2[0][0]                      \n",
      "__________________________________________________________________________________________________\n",
      "layer_normalization_4 (LayerNor (None, 150, 768)     1536        add_3[0][0]                      \n",
      "__________________________________________________________________________________________________\n",
      "multi_head_attention_2 (MultiHe (None, 150, 768)     2362368     layer_normalization_4[0][0]      \n",
      "                                                                 layer_normalization_4[0][0]      \n",
      "__________________________________________________________________________________________________\n",
      "add_4 (Add)                     (None, 150, 768)     0           multi_head_attention_2[0][0]     \n",
      "                                                                 add_3[0][0]                      \n",
      "__________________________________________________________________________________________________\n",
      "layer_normalization_5 (LayerNor (None, 150, 768)     1536        add_4[0][0]                      \n",
      "__________________________________________________________________________________________________\n",
      "dense_5 (Dense)                 (None, 150, 3072)    2362368     layer_normalization_5[0][0]      \n",
      "__________________________________________________________________________________________________\n",
      "dropout_4 (Dropout)             (None, 150, 3072)    0           dense_5[0][0]                    \n",
      "__________________________________________________________________________________________________\n",
      "dense_6 (Dense)                 (None, 150, 768)     2360064     dropout_4[0][0]                  \n",
      "__________________________________________________________________________________________________\n",
      "dropout_5 (Dropout)             (None, 150, 768)     0           dense_6[0][0]                    \n",
      "__________________________________________________________________________________________________\n",
      "add_5 (Add)                     (None, 150, 768)     0           dropout_5[0][0]                  \n",
      "                                                                 add_4[0][0]                      \n",
      "__________________________________________________________________________________________________\n",
      "layer_normalization_6 (LayerNor (None, 150, 768)     1536        add_5[0][0]                      \n",
      "__________________________________________________________________________________________________\n",
      "multi_head_attention_3 (MultiHe (None, 150, 768)     2362368     layer_normalization_6[0][0]      \n",
      "                                                                 layer_normalization_6[0][0]      \n",
      "__________________________________________________________________________________________________\n",
      "add_6 (Add)                     (None, 150, 768)     0           multi_head_attention_3[0][0]     \n",
      "                                                                 add_5[0][0]                      \n",
      "__________________________________________________________________________________________________\n",
      "layer_normalization_7 (LayerNor (None, 150, 768)     1536        add_6[0][0]                      \n",
      "__________________________________________________________________________________________________\n",
      "dense_7 (Dense)                 (None, 150, 3072)    2362368     layer_normalization_7[0][0]      \n",
      "__________________________________________________________________________________________________\n",
      "dropout_6 (Dropout)             (None, 150, 3072)    0           dense_7[0][0]                    \n",
      "__________________________________________________________________________________________________\n",
      "dense_8 (Dense)                 (None, 150, 768)     2360064     dropout_6[0][0]                  \n",
      "__________________________________________________________________________________________________\n",
      "dropout_7 (Dropout)             (None, 150, 768)     0           dense_8[0][0]                    \n",
      "__________________________________________________________________________________________________\n",
      "add_7 (Add)                     (None, 150, 768)     0           dropout_7[0][0]                  \n",
      "                                                                 add_6[0][0]                      \n",
      "__________________________________________________________________________________________________\n",
      "layer_normalization_8 (LayerNor (None, 150, 768)     1536        add_7[0][0]                      \n",
      "__________________________________________________________________________________________________\n",
      "multi_head_attention_4 (MultiHe (None, 150, 768)     2362368     layer_normalization_8[0][0]      \n",
      "                                                                 layer_normalization_8[0][0]      \n",
      "__________________________________________________________________________________________________\n",
      "add_8 (Add)                     (None, 150, 768)     0           multi_head_attention_4[0][0]     \n",
      "                                                                 add_7[0][0]                      \n",
      "__________________________________________________________________________________________________\n",
      "layer_normalization_9 (LayerNor (None, 150, 768)     1536        add_8[0][0]                      \n",
      "__________________________________________________________________________________________________\n",
      "dense_9 (Dense)                 (None, 150, 3072)    2362368     layer_normalization_9[0][0]      \n",
      "__________________________________________________________________________________________________\n",
      "dropout_8 (Dropout)             (None, 150, 3072)    0           dense_9[0][0]                    \n",
      "__________________________________________________________________________________________________\n",
      "dense_10 (Dense)                (None, 150, 768)     2360064     dropout_8[0][0]                  \n",
      "__________________________________________________________________________________________________\n",
      "dropout_9 (Dropout)             (None, 150, 768)     0           dense_10[0][0]                   \n",
      "__________________________________________________________________________________________________\n",
      "add_9 (Add)                     (None, 150, 768)     0           dropout_9[0][0]                  \n",
      "                                                                 add_8[0][0]                      \n",
      "__________________________________________________________________________________________________\n",
      "layer_normalization_10 (LayerNo (None, 150, 768)     1536        add_9[0][0]                      \n",
      "__________________________________________________________________________________________________\n",
      "multi_head_attention_5 (MultiHe (None, 150, 768)     2362368     layer_normalization_10[0][0]     \n",
      "                                                                 layer_normalization_10[0][0]     \n",
      "__________________________________________________________________________________________________\n",
      "add_10 (Add)                    (None, 150, 768)     0           multi_head_attention_5[0][0]     \n",
      "                                                                 add_9[0][0]                      \n",
      "__________________________________________________________________________________________________\n",
      "layer_normalization_11 (LayerNo (None, 150, 768)     1536        add_10[0][0]                     \n",
      "__________________________________________________________________________________________________\n",
      "dense_11 (Dense)                (None, 150, 3072)    2362368     layer_normalization_11[0][0]     \n",
      "__________________________________________________________________________________________________\n",
      "dropout_10 (Dropout)            (None, 150, 3072)    0           dense_11[0][0]                   \n",
      "__________________________________________________________________________________________________\n",
      "dense_12 (Dense)                (None, 150, 768)     2360064     dropout_10[0][0]                 \n",
      "__________________________________________________________________________________________________\n",
      "dropout_11 (Dropout)            (None, 150, 768)     0           dense_12[0][0]                   \n",
      "__________________________________________________________________________________________________\n",
      "add_11 (Add)                    (None, 150, 768)     0           dropout_11[0][0]                 \n",
      "                                                                 add_10[0][0]                     \n",
      "__________________________________________________________________________________________________\n",
      "layer_normalization_12 (LayerNo (None, 150, 768)     1536        add_11[0][0]                     \n",
      "__________________________________________________________________________________________________\n",
      "multi_head_attention_6 (MultiHe (None, 150, 768)     2362368     layer_normalization_12[0][0]     \n",
      "                                                                 layer_normalization_12[0][0]     \n",
      "__________________________________________________________________________________________________\n",
      "add_12 (Add)                    (None, 150, 768)     0           multi_head_attention_6[0][0]     \n",
      "                                                                 add_11[0][0]                     \n",
      "__________________________________________________________________________________________________\n",
      "layer_normalization_13 (LayerNo (None, 150, 768)     1536        add_12[0][0]                     \n",
      "__________________________________________________________________________________________________\n",
      "dense_13 (Dense)                (None, 150, 3072)    2362368     layer_normalization_13[0][0]     \n",
      "__________________________________________________________________________________________________\n",
      "dropout_12 (Dropout)            (None, 150, 3072)    0           dense_13[0][0]                   \n",
      "__________________________________________________________________________________________________\n",
      "dense_14 (Dense)                (None, 150, 768)     2360064     dropout_12[0][0]                 \n",
      "__________________________________________________________________________________________________\n",
      "dropout_13 (Dropout)            (None, 150, 768)     0           dense_14[0][0]                   \n",
      "__________________________________________________________________________________________________\n",
      "add_13 (Add)                    (None, 150, 768)     0           dropout_13[0][0]                 \n",
      "                                                                 add_12[0][0]                     \n",
      "__________________________________________________________________________________________________\n",
      "layer_normalization_14 (LayerNo (None, 150, 768)     1536        add_13[0][0]                     \n",
      "__________________________________________________________________________________________________\n",
      "multi_head_attention_7 (MultiHe (None, 150, 768)     2362368     layer_normalization_14[0][0]     \n",
      "                                                                 layer_normalization_14[0][0]     \n",
      "__________________________________________________________________________________________________\n",
      "add_14 (Add)                    (None, 150, 768)     0           multi_head_attention_7[0][0]     \n",
      "                                                                 add_13[0][0]                     \n",
      "__________________________________________________________________________________________________\n",
      "layer_normalization_15 (LayerNo (None, 150, 768)     1536        add_14[0][0]                     \n",
      "__________________________________________________________________________________________________\n",
      "dense_15 (Dense)                (None, 150, 3072)    2362368     layer_normalization_15[0][0]     \n",
      "__________________________________________________________________________________________________\n",
      "dropout_14 (Dropout)            (None, 150, 3072)    0           dense_15[0][0]                   \n",
      "__________________________________________________________________________________________________\n",
      "dense_16 (Dense)                (None, 150, 768)     2360064     dropout_14[0][0]                 \n",
      "__________________________________________________________________________________________________\n",
      "dropout_15 (Dropout)            (None, 150, 768)     0           dense_16[0][0]                   \n",
      "__________________________________________________________________________________________________\n",
      "add_15 (Add)                    (None, 150, 768)     0           dropout_15[0][0]                 \n",
      "                                                                 add_14[0][0]                     \n",
      "__________________________________________________________________________________________________\n",
      "layer_normalization_16 (LayerNo (None, 150, 768)     1536        add_15[0][0]                     \n",
      "__________________________________________________________________________________________________\n",
      "global_average_pooling1d (Globa (None, 768)          0           layer_normalization_16[0][0]     \n",
      "__________________________________________________________________________________________________\n",
      "dropout_16 (Dropout)            (None, 768)          0           global_average_pooling1d[0][0]   \n",
      "__________________________________________________________________________________________________\n",
      "dense_17 (Dense)                (None, 128)          98432       dropout_16[0][0]                 \n",
      "__________________________________________________________________________________________________\n",
      "dense_18 (Dense)                (None, 1)            129         dense_17[0][0]                   \n",
      "==================================================================================================\n",
      "Total params: 60,643,841\n",
      "Trainable params: 60,643,841\n",
      "Non-trainable params: 0\n",
      "__________________________________________________________________________________________________\n"
     ]
    }
   ],
   "source": [
    "# Construir o modelo ViT clássico\n",
    "model = build_vit_3d_classic(\n",
    "    INPUT_SHAPE\n",
    ")\n",
    "\n",
    "model.summary()"
   ]
  },
  {
   "cell_type": "code",
   "execution_count": 8,
   "id": "60914291",
   "metadata": {},
   "outputs": [],
   "source": [
    "def load_and_preprocess_image(image_path, label):\n",
    "    def _read_and_resize_nifti(path):\n",
    "        # Decodificar o tensor de bytes para uma string Python\n",
    "        path = path.numpy().decode('utf-8')\n",
    "        \n",
    "        nifti_image = nib.load(path).get_fdata().astype(np.float32)\n",
    "        \n",
    "        # Obter a forma original e calcular o fator de zoom para cada eixo\n",
    "        original_shape = nifti_image.shape\n",
    "        zoom_factors = [\n",
    "            TARGET_SHAPE_3D[0] / original_shape[0],\n",
    "            TARGET_SHAPE_3D[1] / original_shape[1],\n",
    "            TARGET_SHAPE_3D[2] / original_shape[2]\n",
    "        ]\n",
    "        \n",
    "        resized_image = zoom(nifti_image, zoom_factors, order=1)\n",
    "        \n",
    "        return resized_image\n",
    "\n",
    "    image = tf.py_function(\n",
    "        func=_read_and_resize_nifti, \n",
    "        inp=[image_path], \n",
    "        Tout=tf.float32\n",
    "    )\n",
    "    \n",
    "    image.set_shape(TARGET_SHAPE_3D)\n",
    "    \n",
    "    # O resto do pré-processamento continua igual\n",
    "    image = tf.expand_dims(image, axis=-1)\n",
    "    image = tf.repeat(image, repeats=INPUT_SHAPE[3], axis=-1)\n",
    "    image = image / (tf.reduce_max(image) + 1e-6) \n",
    "    image.set_shape(INPUT_SHAPE)\n",
    "    \n",
    "    return image, label\n",
    "\n",
    "# Extrair os caminhos e rótulos das nossas listas\n",
    "train_paths = [item['image'] for item in train_files]\n",
    "train_labels = [item['label'] for item in train_files]\n",
    "val_paths = [item['image'] for item in val_files]\n",
    "val_labels = [item['label'] for item in val_files]\n",
    "test_paths = [item['image'] for item in file_list_original]\n",
    "test_labels = [item['label'] for item in file_list_original]\n",
    "\n",
    "# Definir o batch_size\n",
    "batch_size = 4\n",
    "\n",
    "# Criar o dataset de treino com .batch()\n",
    "train_dataset = tf.data.Dataset.from_tensor_slices((train_paths, train_labels))\n",
    "train_dataset = train_dataset.shuffle(buffer_size=len(train_paths))\n",
    "train_dataset = train_dataset.map(load_and_preprocess_image, num_parallel_calls=tf.data.AUTOTUNE)\n",
    "train_dataset = train_dataset.batch(batch_size)\n",
    "train_dataset = train_dataset.prefetch(buffer_size=tf.data.AUTOTUNE)\n",
    "\n",
    "# Criar o dataset de validação com .batch()\n",
    "val_dataset = tf.data.Dataset.from_tensor_slices((val_paths, val_labels))\n",
    "val_dataset = val_dataset.map(load_and_preprocess_image, num_parallel_calls=tf.data.AUTOTUNE)\n",
    "val_dataset = val_dataset.batch(batch_size)\n",
    "val_dataset = val_dataset.prefetch(buffer_size=tf.data.AUTOTUNE)\n",
    "\n",
    "# Criar o dataset de validação com .batch()\n",
    "test_dataset = tf.data.Dataset.from_tensor_slices((test_paths, test_labels))\n",
    "test_dataset = test_dataset.map(load_and_preprocess_image, num_parallel_calls=tf.data.AUTOTUNE)\n",
    "test_dataset = test_dataset.batch(batch_size)\n",
    "test_dataset = test_dataset.prefetch(buffer_size=tf.data.AUTOTUNE)"
   ]
  },
  {
   "cell_type": "code",
   "execution_count": 9,
   "id": "b18de94f",
   "metadata": {},
   "outputs": [
    {
     "name": "stdout",
     "output_type": "stream",
     "text": [
      "Epoch 1/50\n",
      "32/32 [==============================] - 28s 626ms/step - loss: 1.0249 - accuracy: 0.5039 - precision: 0.5077 - recall: 0.5156 - val_loss: 0.7080 - val_accuracy: 0.4884 - val_precision: 0.4884 - val_recall: 1.0000\n",
      "Epoch 2/50\n",
      "32/32 [==============================] - 14s 409ms/step - loss: 0.7329 - accuracy: 0.4803 - precision: 0.4800 - recall: 0.3750 - val_loss: 0.8297 - val_accuracy: 0.4884 - val_precision: 0.4884 - val_recall: 1.0000\n",
      "Epoch 3/50\n",
      "32/32 [==============================] - 14s 414ms/step - loss: 0.8351 - accuracy: 0.5512 - precision: 0.5467 - recall: 0.6406 - val_loss: 0.8154 - val_accuracy: 0.4884 - val_precision: 0.4884 - val_recall: 1.0000\n",
      "Epoch 4/50\n",
      "32/32 [==============================] - 14s 412ms/step - loss: 0.7639 - accuracy: 0.4882 - precision: 0.4938 - recall: 0.6250 - val_loss: 0.7557 - val_accuracy: 0.5116 - val_precision: 0.0000e+00 - val_recall: 0.0000e+00\n",
      "Epoch 5/50\n",
      "32/32 [==============================] - 14s 418ms/step - loss: 0.7338 - accuracy: 0.5512 - precision: 0.5507 - recall: 0.5938 - val_loss: 0.6928 - val_accuracy: 0.5116 - val_precision: 0.0000e+00 - val_recall: 0.0000e+00\n",
      "Epoch 6/50\n",
      "32/32 [==============================] - 15s 424ms/step - loss: 0.7602 - accuracy: 0.4882 - precision: 0.4921 - recall: 0.4844 - val_loss: 0.7001 - val_accuracy: 0.4884 - val_precision: 0.4884 - val_recall: 1.0000\n",
      "Epoch 7/50\n",
      "32/32 [==============================] - 14s 406ms/step - loss: 0.7491 - accuracy: 0.4488 - precision: 0.4571 - recall: 0.5000 - val_loss: 0.6931 - val_accuracy: 0.4884 - val_precision: 0.4884 - val_recall: 1.0000\n",
      "Epoch 8/50\n",
      "32/32 [==============================] - 14s 412ms/step - loss: 0.7507 - accuracy: 0.5039 - precision: 0.5088 - recall: 0.4531 - val_loss: 0.7172 - val_accuracy: 0.5116 - val_precision: 0.0000e+00 - val_recall: 0.0000e+00\n",
      "Epoch 9/50\n",
      "32/32 [==============================] - 14s 405ms/step - loss: 0.6929 - accuracy: 0.5669 - precision: 0.5672 - recall: 0.5938 - val_loss: 0.6978 - val_accuracy: 0.5116 - val_precision: 0.0000e+00 - val_recall: 0.0000e+00\n",
      "Epoch 10/50\n",
      "32/32 [==============================] - 14s 400ms/step - loss: 0.6667 - accuracy: 0.5906 - precision: 0.6000 - recall: 0.5625 - val_loss: 0.7256 - val_accuracy: 0.6279 - val_precision: 0.6000 - val_recall: 0.7143\n",
      "Epoch 11/50\n",
      "32/32 [==============================] - 14s 413ms/step - loss: 0.6428 - accuracy: 0.6772 - precision: 0.6575 - recall: 0.7500 - val_loss: 0.7479 - val_accuracy: 0.5581 - val_precision: 0.5417 - val_recall: 0.6190\n",
      "Epoch 12/50\n",
      "32/32 [==============================] - 14s 414ms/step - loss: 0.6900 - accuracy: 0.6299 - precision: 0.6545 - recall: 0.5625 - val_loss: 0.7540 - val_accuracy: 0.5349 - val_precision: 0.5200 - val_recall: 0.6190\n",
      "Epoch 13/50\n",
      "32/32 [==============================] - 15s 422ms/step - loss: 0.5853 - accuracy: 0.7402 - precision: 0.7246 - recall: 0.7812 - val_loss: 0.7162 - val_accuracy: 0.5116 - val_precision: 0.0000e+00 - val_recall: 0.0000e+00\n",
      "Epoch 14/50\n",
      "32/32 [==============================] - 14s 418ms/step - loss: 0.6253 - accuracy: 0.5984 - precision: 0.6275 - recall: 0.5000 - val_loss: 0.8028 - val_accuracy: 0.4419 - val_precision: 0.4571 - val_recall: 0.7619\n",
      "Epoch 15/50\n",
      "32/32 [==============================] - 14s 416ms/step - loss: 0.5732 - accuracy: 0.7165 - precision: 0.7000 - recall: 0.7656 - val_loss: 0.7722 - val_accuracy: 0.5581 - val_precision: 0.5417 - val_recall: 0.6190\n",
      "Epoch 16/50\n",
      "32/32 [==============================] - 14s 414ms/step - loss: 0.5449 - accuracy: 0.7165 - precision: 0.7121 - recall: 0.7344 - val_loss: 0.9111 - val_accuracy: 0.6047 - val_precision: 0.5909 - val_recall: 0.6190\n",
      "Epoch 17/50\n",
      "32/32 [==============================] - 14s 412ms/step - loss: 0.5055 - accuracy: 0.7638 - precision: 0.7576 - recall: 0.7812 - val_loss: 0.8572 - val_accuracy: 0.4884 - val_precision: 0.4848 - val_recall: 0.7619\n",
      "Epoch 18/50\n",
      "32/32 [==============================] - 14s 414ms/step - loss: 0.4907 - accuracy: 0.7795 - precision: 0.7500 - recall: 0.8438 - val_loss: 0.7952 - val_accuracy: 0.6977 - val_precision: 0.7222 - val_recall: 0.6190\n",
      "Epoch 19/50\n",
      "32/32 [==============================] - 14s 412ms/step - loss: 0.4686 - accuracy: 0.7953 - precision: 0.7969 - recall: 0.7969 - val_loss: 0.9180 - val_accuracy: 0.5116 - val_precision: 0.5000 - val_recall: 0.8095\n",
      "Epoch 20/50\n",
      "32/32 [==============================] - 14s 406ms/step - loss: 0.3883 - accuracy: 0.8425 - precision: 0.8438 - recall: 0.8438 - val_loss: 1.1383 - val_accuracy: 0.4884 - val_precision: 0.4848 - val_recall: 0.7619\n",
      "Epoch 21/50\n",
      "32/32 [==============================] - 14s 411ms/step - loss: 0.3706 - accuracy: 0.8346 - precision: 0.8209 - recall: 0.8594 - val_loss: 0.8444 - val_accuracy: 0.6512 - val_precision: 0.6500 - val_recall: 0.6190\n",
      "Epoch 22/50\n",
      "32/32 [==============================] - 14s 419ms/step - loss: 0.3494 - accuracy: 0.8583 - precision: 0.8833 - recall: 0.8281 - val_loss: 0.9236 - val_accuracy: 0.6047 - val_precision: 0.6000 - val_recall: 0.5714\n",
      "Epoch 23/50\n",
      "32/32 [==============================] - 15s 426ms/step - loss: 0.2944 - accuracy: 0.8819 - precision: 0.8769 - recall: 0.8906 - val_loss: 1.0720 - val_accuracy: 0.5581 - val_precision: 0.5500 - val_recall: 0.5238\n",
      "Epoch 24/50\n",
      "32/32 [==============================] - 14s 413ms/step - loss: 0.1986 - accuracy: 0.9134 - precision: 0.9206 - recall: 0.9062 - val_loss: 1.3365 - val_accuracy: 0.5814 - val_precision: 0.6364 - val_recall: 0.3333\n",
      "Epoch 25/50\n",
      "32/32 [==============================] - 15s 435ms/step - loss: 0.1720 - accuracy: 0.9291 - precision: 0.9365 - recall: 0.9219 - val_loss: 1.5512 - val_accuracy: 0.6279 - val_precision: 0.6316 - val_recall: 0.5714\n",
      "Epoch 26/50\n",
      "32/32 [==============================] - 15s 433ms/step - loss: 0.2005 - accuracy: 0.9213 - precision: 0.9355 - recall: 0.9062 - val_loss: 2.3077 - val_accuracy: 0.5581 - val_precision: 0.5312 - val_recall: 0.8095\n",
      "Epoch 27/50\n",
      "32/32 [==============================] - 15s 426ms/step - loss: 0.1675 - accuracy: 0.9606 - precision: 0.9836 - recall: 0.9375 - val_loss: 2.1428 - val_accuracy: 0.4651 - val_precision: 0.4688 - val_recall: 0.7143\n",
      "Epoch 28/50\n",
      "32/32 [==============================] - 15s 423ms/step - loss: 0.0918 - accuracy: 0.9606 - precision: 0.9683 - recall: 0.9531 - val_loss: 2.8969 - val_accuracy: 0.5116 - val_precision: 0.5000 - val_recall: 0.7619\n",
      "Epoch 29/50\n",
      "32/32 [==============================] - 14s 417ms/step - loss: 0.2617 - accuracy: 0.9213 - precision: 0.9091 - recall: 0.9375 - val_loss: 1.4659 - val_accuracy: 0.5814 - val_precision: 0.5556 - val_recall: 0.7143\n",
      "Epoch 30/50\n",
      "32/32 [==============================] - 14s 418ms/step - loss: 0.1298 - accuracy: 0.9606 - precision: 0.9683 - recall: 0.9531 - val_loss: 1.5796 - val_accuracy: 0.5814 - val_precision: 0.5556 - val_recall: 0.7143\n",
      "Epoch 31/50\n",
      "32/32 [==============================] - 15s 425ms/step - loss: 0.0981 - accuracy: 0.9685 - precision: 0.9839 - recall: 0.9531 - val_loss: 1.7174 - val_accuracy: 0.6279 - val_precision: 0.6087 - val_recall: 0.6667\n",
      "Epoch 32/50\n",
      "32/32 [==============================] - 14s 416ms/step - loss: 0.0533 - accuracy: 0.9843 - precision: 0.9844 - recall: 0.9844 - val_loss: 2.0911 - val_accuracy: 0.6047 - val_precision: 0.5909 - val_recall: 0.6190\n",
      "Epoch 33/50\n",
      "32/32 [==============================] - 14s 414ms/step - loss: 0.0747 - accuracy: 0.9764 - precision: 0.9841 - recall: 0.9688 - val_loss: 3.1337 - val_accuracy: 0.5116 - val_precision: 0.5000 - val_recall: 0.7143\n",
      "Epoch 34/50\n",
      "32/32 [==============================] - 15s 418ms/step - loss: 0.1231 - accuracy: 0.9528 - precision: 0.9531 - recall: 0.9531 - val_loss: 2.6011 - val_accuracy: 0.5116 - val_precision: 0.5000 - val_recall: 0.7143\n",
      "Epoch 35/50\n",
      "32/32 [==============================] - 14s 415ms/step - loss: 0.0795 - accuracy: 0.9685 - precision: 0.9839 - recall: 0.9531 - val_loss: 2.0681 - val_accuracy: 0.6047 - val_precision: 0.5769 - val_recall: 0.7143\n",
      "Epoch 36/50\n",
      "32/32 [==============================] - 15s 423ms/step - loss: 0.0504 - accuracy: 0.9921 - precision: 1.0000 - recall: 0.9844 - val_loss: 2.0636 - val_accuracy: 0.6047 - val_precision: 0.5833 - val_recall: 0.6667\n",
      "Epoch 37/50\n",
      "32/32 [==============================] - 14s 415ms/step - loss: 0.0381 - accuracy: 0.9921 - precision: 1.0000 - recall: 0.9844 - val_loss: 2.1175 - val_accuracy: 0.6047 - val_precision: 0.5833 - val_recall: 0.6667\n",
      "Epoch 38/50\n",
      "32/32 [==============================] - 14s 414ms/step - loss: 0.0441 - accuracy: 0.9921 - precision: 1.0000 - recall: 0.9844 - val_loss: 2.1461 - val_accuracy: 0.6512 - val_precision: 0.6364 - val_recall: 0.6667\n",
      "Epoch 39/50\n",
      "32/32 [==============================] - 15s 421ms/step - loss: 0.0417 - accuracy: 0.9921 - precision: 1.0000 - recall: 0.9844 - val_loss: 2.2597 - val_accuracy: 0.6279 - val_precision: 0.6190 - val_recall: 0.6190\n",
      "Epoch 40/50\n",
      "32/32 [==============================] - 14s 411ms/step - loss: 0.0417 - accuracy: 0.9921 - precision: 1.0000 - recall: 0.9844 - val_loss: 2.3159 - val_accuracy: 0.6279 - val_precision: 0.6190 - val_recall: 0.6190\n",
      "Epoch 41/50\n",
      "32/32 [==============================] - 14s 415ms/step - loss: 0.0333 - accuracy: 0.9921 - precision: 1.0000 - recall: 0.9844 - val_loss: 2.4833 - val_accuracy: 0.6279 - val_precision: 0.6190 - val_recall: 0.6190\n",
      "Epoch 42/50\n",
      "32/32 [==============================] - 14s 416ms/step - loss: 0.0195 - accuracy: 0.9921 - precision: 1.0000 - recall: 0.9844 - val_loss: 2.6050 - val_accuracy: 0.6047 - val_precision: 0.6000 - val_recall: 0.5714\n",
      "Epoch 43/50\n",
      "32/32 [==============================] - 15s 428ms/step - loss: 0.0073 - accuracy: 1.0000 - precision: 1.0000 - recall: 1.0000 - val_loss: 2.9511 - val_accuracy: 0.5349 - val_precision: 0.5217 - val_recall: 0.5714\n",
      "Epoch 44/50\n",
      "32/32 [==============================] - 23s 414ms/step - loss: 0.0022 - accuracy: 1.0000 - precision: 1.0000 - recall: 1.0000 - val_loss: 3.1408 - val_accuracy: 0.5814 - val_precision: 0.5789 - val_recall: 0.5238\n",
      "Epoch 45/50\n",
      "32/32 [==============================] - 14s 417ms/step - loss: 0.0032 - accuracy: 1.0000 - precision: 1.0000 - recall: 1.0000 - val_loss: 3.2628 - val_accuracy: 0.6512 - val_precision: 0.6364 - val_recall: 0.6667\n",
      "Epoch 46/50\n",
      "32/32 [==============================] - 15s 423ms/step - loss: 0.0436 - accuracy: 0.9921 - precision: 1.0000 - recall: 0.9844 - val_loss: 3.5744 - val_accuracy: 0.6279 - val_precision: 0.6190 - val_recall: 0.6190\n",
      "Epoch 47/50\n",
      "32/32 [==============================] - 14s 408ms/step - loss: 0.1622 - accuracy: 0.9685 - precision: 0.9688 - recall: 0.9688 - val_loss: 2.6483 - val_accuracy: 0.6279 - val_precision: 0.5862 - val_recall: 0.8095\n",
      "Epoch 48/50\n",
      "32/32 [==============================] - 14s 401ms/step - loss: 0.0726 - accuracy: 0.9843 - precision: 0.9844 - recall: 0.9844 - val_loss: 1.9519 - val_accuracy: 0.6279 - val_precision: 0.5926 - val_recall: 0.7619\n",
      "Epoch 49/50\n",
      "32/32 [==============================] - 14s 399ms/step - loss: 0.0325 - accuracy: 0.9843 - precision: 0.9844 - recall: 0.9844 - val_loss: 2.6055 - val_accuracy: 0.5814 - val_precision: 0.5556 - val_recall: 0.7143\n",
      "Epoch 50/50\n",
      "32/32 [==============================] - 14s 398ms/step - loss: 0.0319 - accuracy: 0.9843 - precision: 0.9844 - recall: 0.9844 - val_loss: 2.2174 - val_accuracy: 0.6512 - val_precision: 0.6500 - val_recall: 0.6190\n",
      "Treinamento concluído.\n"
     ]
    }
   ],
   "source": [
    "# Compilando o modelo híbrido\n",
    "model.compile(\n",
    "    optimizer=tf.keras.optimizers.Adam(learning_rate=0.0001),\n",
    "    loss=\"binary_crossentropy\",\n",
    "    metrics=['accuracy', tf.keras.metrics.Precision(name=\"precision\"), tf.keras.metrics.Recall(name=\"recall\")]\n",
    ")\n",
    "\n",
    "# Histórico do treinamento\n",
    "history = model.fit(train_dataset, validation_data=val_dataset, epochs=50)\n",
    "\n",
    "print(\"Treinamento concluído.\")"
   ]
  },
  {
   "cell_type": "markdown",
   "id": "50d85de7",
   "metadata": {},
   "source": [
    "### Avaliação do treinamento do modelo"
   ]
  },
  {
   "cell_type": "code",
   "execution_count": 10,
   "id": "886a6482",
   "metadata": {},
   "outputs": [
    {
     "data": {
      "image/png": "[encoded data removed]",
      "text/plain": [
       "<Figure size 1200x400 with 2 Axes>"
      ]
     },
     "metadata": {},
     "output_type": "display_data"
    }
   ],
   "source": [
    "plot_training_history(history)"
   ]
  },
  {
   "cell_type": "code",
   "execution_count": 11,
   "id": "c48e75a1",
   "metadata": {},
   "outputs": [
    {
     "name": "stdout",
     "output_type": "stream",
     "text": [
      "Validação:\n",
      "              precision    recall  f1-score   support\n",
      "\n",
      "           0       0.65      0.68      0.67        22\n",
      "           1       0.65      0.62      0.63        21\n",
      "\n",
      "    accuracy                           0.65        43\n",
      "   macro avg       0.65      0.65      0.65        43\n",
      "weighted avg       0.65      0.65      0.65        43\n",
      "\n",
      "\n",
      "#########################################################\n",
      "\n",
      "Teste:\n",
      "              precision    recall  f1-score   support\n",
      "\n",
      "           0       0.00      0.00      0.00         0\n",
      "           1       1.00      0.29      0.45        41\n",
      "\n",
      "    accuracy                           0.29        41\n",
      "   macro avg       0.50      0.15      0.23        41\n",
      "weighted avg       1.00      0.29      0.45        41\n",
      "\n",
      "Validação:\n"
     ]
    },
    {
     "name": "stderr",
     "output_type": "stream",
     "text": [
      "c:\\Users\\gabri\\miniconda3\\envs\\displasia\\lib\\site-packages\\sklearn\\metrics\\_classification.py:1318: UndefinedMetricWarning: Recall and F-score are ill-defined and being set to 0.0 in labels with no true samples. Use `zero_division` parameter to control this behavior.\n",
      "  _warn_prf(average, modifier, msg_start, len(result))\n",
      "c:\\Users\\gabri\\miniconda3\\envs\\displasia\\lib\\site-packages\\sklearn\\metrics\\_classification.py:1318: UndefinedMetricWarning: Recall and F-score are ill-defined and being set to 0.0 in labels with no true samples. Use `zero_division` parameter to control this behavior.\n",
      "  _warn_prf(average, modifier, msg_start, len(result))\n",
      "c:\\Users\\gabri\\miniconda3\\envs\\displasia\\lib\\site-packages\\sklearn\\metrics\\_classification.py:1318: UndefinedMetricWarning: Recall and F-score are ill-defined and being set to 0.0 in labels with no true samples. Use `zero_division` parameter to control this behavior.\n",
      "  _warn_prf(average, modifier, msg_start, len(result))\n"
     ]
    },
    {
     "data": {
      "image/png": "[encoded data removed]",
      "text/plain": [
       "<Figure size 640x480 with 2 Axes>"
      ]
     },
     "metadata": {},
     "output_type": "display_data"
    },
    {
     "name": "stdout",
     "output_type": "stream",
     "text": [
      "Teste:\n"
     ]
    },
    {
     "data": {
      "image/png": "[encoded data removed]",
      "text/plain": [
       "<Figure size 640x480 with 2 Axes>"
      ]
     },
     "metadata": {},
     "output_type": "display_data"
    }
   ],
   "source": [
    "# Avaliar o modelo na validação e teste\n",
    "y_pred_valid = (model.predict(val_dataset) > 0.5).astype(int)\n",
    "y_pred_test = (model.predict(test_dataset) > 0.5).astype(int)\n",
    "\n",
    "# Gerar o relatório de classificação\n",
    "print(\"Validação:\")\n",
    "print(classification_report(val_labels, y_pred_valid))\n",
    "print(\"\\n#########################################################\\n\")\n",
    "\n",
    "print(\"Teste:\")\n",
    "print(classification_report(test_labels, y_pred_test)) \n",
    "\n",
    "# Gerar a matriz de confusão\n",
    "print(\"Validação:\")\n",
    "plot_confusion_matrix(val_labels, y_pred_valid)\n",
    "print(\"Teste:\")\n",
    "plot_confusion_matrix(test_labels, y_pred_test)"
   ]
  },
  {
   "cell_type": "markdown",
   "id": "2f8cc1e0",
   "metadata": {},
   "source": [
    "### Plot em PDF das Predições"
   ]
  },
  {
   "cell_type": "code",
   "execution_count": 12,
   "id": "b2ed9edf",
   "metadata": {},
   "outputs": [],
   "source": [
    "# Para garantir que os plots apareçam no notebook\n",
    "%matplotlib inline \n",
    "\n",
    "def view_interactive_slices(dataset, y_true, y_pred, patient_index):\n",
    "    \"\"\"\n",
    "    Cria um visualizador interativo com slider para um paciente específico.\n",
    "    \n",
    "    Args:\n",
    "        dataset (tf.data.Dataset): Dataset de onde extrair as imagens.\n",
    "        y_true (list or np.array): Lista de rótulos verdadeiros.\n",
    "        y_pred (np.array): Array de rótulos preditos.\n",
    "        patient_index (int): O índice do paciente/volume que você quer visualizar.\n",
    "    \"\"\"\n",
    "    \n",
    "    # 1. Encontrar a imagem correta no dataset\n",
    "    # O .unbatch() desfaz os lotes para acessarmos as imagens individualmente\n",
    "    image_3d_tensor = next(iter(dataset.unbatch().skip(patient_index).take(1)))[0]\n",
    "    image_3d = image_3d_tensor.numpy()\n",
    "    \n",
    "    # 2. Obter os rótulos\n",
    "    true_label = np.array(y_true)[patient_index]\n",
    "    predicted_label = y_pred[patient_index][0]\n",
    "\n",
    "    # 3. Extrair informações da imagem\n",
    "    num_slices = image_3d.shape[2]\n",
    "    \n",
    "    # 4. Definir a função que será chamada pelo slider\n",
    "    # Esta função será executada toda vez que o valor do slider mudar.\n",
    "    def plot_slice(slice_index):\n",
    "        # Seleciona e prepara a fatia 2D\n",
    "        image_slice_2d = image_3d[:, :, slice_index, 0]\n",
    "        image_slice_2d = np.rot90(image_slice_2d)\n",
    "        \n",
    "        # Cria a plotagem\n",
    "        fig, ax = plt.subplots(figsize=(8, 8))\n",
    "        ax.imshow(image_slice_2d, cmap='gray')\n",
    "        \n",
    "        # Título principal\n",
    "        title_text = f\"Paciente #{patient_index} | Predito: {predicted_label} | Verdadeiro: {true_label}\"\n",
    "        color = 'green' if predicted_label == true_label else 'red'\n",
    "        ax.set_title(title_text, color=color, fontsize=16)\n",
    "        \n",
    "        # Título da fatia\n",
    "        ax.text(5, 15, f\"Fatia: {slice_index}/{num_slices-1}\", color='white', \n",
    "                bbox=dict(facecolor='black', alpha=0.5))\n",
    "        \n",
    "        ax.axis('off')\n",
    "        plt.show()\n",
    "\n",
    "    # 5. Criar e conectar o slider à função de plotagem\n",
    "    interact(plot_slice, \n",
    "             slice_index=IntSlider(value=num_slices//2, min=0, max=num_slices-1, step=1, description='Fatia:'));\n"
   ]
  },
  {
   "cell_type": "code",
   "execution_count": 13,
   "id": "7407e0ae",
   "metadata": {},
   "outputs": [
    {
     "data": {
      "application/vnd.jupyter.widget-view+json": {
       "model_id": "e21c627f6cc24a5b8cf69b34540418d9",
       "version_major": 2,
       "version_minor": 0
      },
      "text/plain": [
       "interactive(children=(IntSlider(value=75, description='Fatia:', max=149), Output()), _dom_classes=('widget-int…"
      ]
     },
     "metadata": {},
     "output_type": "display_data"
    },
    {
     "data": {
      "application/vnd.jupyter.widget-view+json": {
       "model_id": "21b0c870a07442018da759e97817f239",
       "version_major": 2,
       "version_minor": 0
      },
      "text/plain": [
       "interactive(children=(IntSlider(value=75, description='Fatia:', max=149), Output()), _dom_classes=('widget-int…"
      ]
     },
     "metadata": {},
     "output_type": "display_data"
    },
    {
     "data": {
      "application/vnd.jupyter.widget-view+json": {
       "model_id": "8e1e024f08b4439fab0815f7cb9520e0",
       "version_major": 2,
       "version_minor": 0
      },
      "text/plain": [
       "interactive(children=(IntSlider(value=75, description='Fatia:', max=149), Output()), _dom_classes=('widget-int…"
      ]
     },
     "metadata": {},
     "output_type": "display_data"
    },
    {
     "data": {
      "application/vnd.jupyter.widget-view+json": {
       "model_id": "74500d52792d412a926c86976acaadcd",
       "version_major": 2,
       "version_minor": 0
      },
      "text/plain": [
       "interactive(children=(IntSlider(value=75, description='Fatia:', max=149), Output()), _dom_classes=('widget-int…"
      ]
     },
     "metadata": {},
     "output_type": "display_data"
    },
    {
     "data": {
      "application/vnd.jupyter.widget-view+json": {
       "model_id": "d215da0d23a64ee1abac670405df6eeb",
       "version_major": 2,
       "version_minor": 0
      },
      "text/plain": [
       "interactive(children=(IntSlider(value=75, description='Fatia:', max=149), Output()), _dom_classes=('widget-int…"
      ]
     },
     "metadata": {},
     "output_type": "display_data"
    },
    {
     "data": {
      "application/vnd.jupyter.widget-view+json": {
       "model_id": "ce363691748a43e4a4115f02f022bfbe",
       "version_major": 2,
       "version_minor": 0
      },
      "text/plain": [
       "interactive(children=(IntSlider(value=75, description='Fatia:', max=149), Output()), _dom_classes=('widget-int…"
      ]
     },
     "metadata": {},
     "output_type": "display_data"
    },
    {
     "data": {
      "application/vnd.jupyter.widget-view+json": {
       "model_id": "8105b69a6f76480691bee3be767ccac5",
       "version_major": 2,
       "version_minor": 0
      },
      "text/plain": [
       "interactive(children=(IntSlider(value=75, description='Fatia:', max=149), Output()), _dom_classes=('widget-int…"
      ]
     },
     "metadata": {},
     "output_type": "display_data"
    },
    {
     "data": {
      "application/vnd.jupyter.widget-view+json": {
       "model_id": "8a703141485e44448aed791282ae3197",
       "version_major": 2,
       "version_minor": 0
      },
      "text/plain": [
       "interactive(children=(IntSlider(value=75, description='Fatia:', max=149), Output()), _dom_classes=('widget-int…"
      ]
     },
     "metadata": {},
     "output_type": "display_data"
    },
    {
     "data": {
      "application/vnd.jupyter.widget-view+json": {
       "model_id": "9ff01ce3bab143628790e079dfe4db45",
       "version_major": 2,
       "version_minor": 0
      },
      "text/plain": [
       "interactive(children=(IntSlider(value=75, description='Fatia:', max=149), Output()), _dom_classes=('widget-int…"
      ]
     },
     "metadata": {},
     "output_type": "display_data"
    },
    {
     "data": {
      "application/vnd.jupyter.widget-view+json": {
       "model_id": "d97e95fa40af4ae0bbea227f6eba8c98",
       "version_major": 2,
       "version_minor": 0
      },
      "text/plain": [
       "interactive(children=(IntSlider(value=75, description='Fatia:', max=149), Output()), _dom_classes=('widget-int…"
      ]
     },
     "metadata": {},
     "output_type": "display_data"
    },
    {
     "data": {
      "application/vnd.jupyter.widget-view+json": {
       "model_id": "600516d037b444aabefe2ea4533844e4",
       "version_major": 2,
       "version_minor": 0
      },
      "text/plain": [
       "interactive(children=(IntSlider(value=75, description='Fatia:', max=149), Output()), _dom_classes=('widget-int…"
      ]
     },
     "metadata": {},
     "output_type": "display_data"
    },
    {
     "data": {
      "application/vnd.jupyter.widget-view+json": {
       "model_id": "1371b5b4831342968395457f491acf78",
       "version_major": 2,
       "version_minor": 0
      },
      "text/plain": [
       "interactive(children=(IntSlider(value=75, description='Fatia:', max=149), Output()), _dom_classes=('widget-int…"
      ]
     },
     "metadata": {},
     "output_type": "display_data"
    },
    {
     "data": {
      "application/vnd.jupyter.widget-view+json": {
       "model_id": "b4a9e3d1e0ee45e5a761517f0e582915",
       "version_major": 2,
       "version_minor": 0
      },
      "text/plain": [
       "interactive(children=(IntSlider(value=75, description='Fatia:', max=149), Output()), _dom_classes=('widget-int…"
      ]
     },
     "metadata": {},
     "output_type": "display_data"
    },
    {
     "data": {
      "application/vnd.jupyter.widget-view+json": {
       "model_id": "84fa548f23644a06a6ffcf6172c45c89",
       "version_major": 2,
       "version_minor": 0
      },
      "text/plain": [
       "interactive(children=(IntSlider(value=75, description='Fatia:', max=149), Output()), _dom_classes=('widget-int…"
      ]
     },
     "metadata": {},
     "output_type": "display_data"
    },
    {
     "data": {
      "application/vnd.jupyter.widget-view+json": {
       "model_id": "80d57661c3d14fb08d7f8cd92298c899",
       "version_major": 2,
       "version_minor": 0
      },
      "text/plain": [
       "interactive(children=(IntSlider(value=75, description='Fatia:', max=149), Output()), _dom_classes=('widget-int…"
      ]
     },
     "metadata": {},
     "output_type": "display_data"
    },
    {
     "data": {
      "application/vnd.jupyter.widget-view+json": {
       "model_id": "7bbe6c415e9047b6b499f5d49d066f12",
       "version_major": 2,
       "version_minor": 0
      },
      "text/plain": [
       "interactive(children=(IntSlider(value=75, description='Fatia:', max=149), Output()), _dom_classes=('widget-int…"
      ]
     },
     "metadata": {},
     "output_type": "display_data"
    },
    {
     "data": {
      "application/vnd.jupyter.widget-view+json": {
       "model_id": "da7d26008d5c4dca92a398fcfc1a6423",
       "version_major": 2,
       "version_minor": 0
      },
      "text/plain": [
       "interactive(children=(IntSlider(value=75, description='Fatia:', max=149), Output()), _dom_classes=('widget-int…"
      ]
     },
     "metadata": {},
     "output_type": "display_data"
    },
    {
     "data": {
      "application/vnd.jupyter.widget-view+json": {
       "model_id": "bcad5d9c76e440cab3d316e2c1f6a5bc",
       "version_major": 2,
       "version_minor": 0
      },
      "text/plain": [
       "interactive(children=(IntSlider(value=75, description='Fatia:', max=149), Output()), _dom_classes=('widget-int…"
      ]
     },
     "metadata": {},
     "output_type": "display_data"
    },
    {
     "data": {
      "application/vnd.jupyter.widget-view+json": {
       "model_id": "4c5e91472ebf4dc283b716ec27527f4a",
       "version_major": 2,
       "version_minor": 0
      },
      "text/plain": [
       "interactive(children=(IntSlider(value=75, description='Fatia:', max=149), Output()), _dom_classes=('widget-int…"
      ]
     },
     "metadata": {},
     "output_type": "display_data"
    },
    {
     "data": {
      "application/vnd.jupyter.widget-view+json": {
       "model_id": "bac64c34a1bd4b5ea18870aa81daadf3",
       "version_major": 2,
       "version_minor": 0
      },
      "text/plain": [
       "interactive(children=(IntSlider(value=75, description='Fatia:', max=149), Output()), _dom_classes=('widget-int…"
      ]
     },
     "metadata": {},
     "output_type": "display_data"
    },
    {
     "data": {
      "application/vnd.jupyter.widget-view+json": {
       "model_id": "b5a1ae3236dc4b7aa489fde0c0c67c9b",
       "version_major": 2,
       "version_minor": 0
      },
      "text/plain": [
       "interactive(children=(IntSlider(value=75, description='Fatia:', max=149), Output()), _dom_classes=('widget-int…"
      ]
     },
     "metadata": {},
     "output_type": "display_data"
    },
    {
     "data": {
      "application/vnd.jupyter.widget-view+json": {
       "model_id": "fc2a6763d8e14cd3be37e228b8097f8c",
       "version_major": 2,
       "version_minor": 0
      },
      "text/plain": [
       "interactive(children=(IntSlider(value=75, description='Fatia:', max=149), Output()), _dom_classes=('widget-int…"
      ]
     },
     "metadata": {},
     "output_type": "display_data"
    },
    {
     "data": {
      "application/vnd.jupyter.widget-view+json": {
       "model_id": "fb4d175c1c1e44cf86d7a00647715214",
       "version_major": 2,
       "version_minor": 0
      },
      "text/plain": [
       "interactive(children=(IntSlider(value=75, description='Fatia:', max=149), Output()), _dom_classes=('widget-int…"
      ]
     },
     "metadata": {},
     "output_type": "display_data"
    },
    {
     "data": {
      "application/vnd.jupyter.widget-view+json": {
       "model_id": "9bbe771bf9514156b1c5558a35d960a0",
       "version_major": 2,
       "version_minor": 0
      },
      "text/plain": [
       "interactive(children=(IntSlider(value=75, description='Fatia:', max=149), Output()), _dom_classes=('widget-int…"
      ]
     },
     "metadata": {},
     "output_type": "display_data"
    },
    {
     "data": {
      "application/vnd.jupyter.widget-view+json": {
       "model_id": "d0fd1270af544ca6912d2808fc168a01",
       "version_major": 2,
       "version_minor": 0
      },
      "text/plain": [
       "interactive(children=(IntSlider(value=75, description='Fatia:', max=149), Output()), _dom_classes=('widget-int…"
      ]
     },
     "metadata": {},
     "output_type": "display_data"
    },
    {
     "data": {
      "application/vnd.jupyter.widget-view+json": {
       "model_id": "83e7fb5596af4566b4efd32bfb07807d",
       "version_major": 2,
       "version_minor": 0
      },
      "text/plain": [
       "interactive(children=(IntSlider(value=75, description='Fatia:', max=149), Output()), _dom_classes=('widget-int…"
      ]
     },
     "metadata": {},
     "output_type": "display_data"
    },
    {
     "data": {
      "application/vnd.jupyter.widget-view+json": {
       "model_id": "c56d84bacf1d45e0b668691f6f3d2073",
       "version_major": 2,
       "version_minor": 0
      },
      "text/plain": [
       "interactive(children=(IntSlider(value=75, description='Fatia:', max=149), Output()), _dom_classes=('widget-int…"
      ]
     },
     "metadata": {},
     "output_type": "display_data"
    },
    {
     "data": {
      "application/vnd.jupyter.widget-view+json": {
       "model_id": "18b91be18dc44c00a9ddfa6dfda0170c",
       "version_major": 2,
       "version_minor": 0
      },
      "text/plain": [
       "interactive(children=(IntSlider(value=75, description='Fatia:', max=149), Output()), _dom_classes=('widget-int…"
      ]
     },
     "metadata": {},
     "output_type": "display_data"
    },
    {
     "data": {
      "application/vnd.jupyter.widget-view+json": {
       "model_id": "69fcc229494c468bb231f53e9769eac9",
       "version_major": 2,
       "version_minor": 0
      },
      "text/plain": [
       "interactive(children=(IntSlider(value=75, description='Fatia:', max=149), Output()), _dom_classes=('widget-int…"
      ]
     },
     "metadata": {},
     "output_type": "display_data"
    },
    {
     "data": {
      "application/vnd.jupyter.widget-view+json": {
       "model_id": "074a39b7132f4d5e81ebafcc5c2f1662",
       "version_major": 2,
       "version_minor": 0
      },
      "text/plain": [
       "interactive(children=(IntSlider(value=75, description='Fatia:', max=149), Output()), _dom_classes=('widget-int…"
      ]
     },
     "metadata": {},
     "output_type": "display_data"
    },
    {
     "data": {
      "application/vnd.jupyter.widget-view+json": {
       "model_id": "9352769fa2c04b88a5e83439b3aa6f40",
       "version_major": 2,
       "version_minor": 0
      },
      "text/plain": [
       "interactive(children=(IntSlider(value=75, description='Fatia:', max=149), Output()), _dom_classes=('widget-int…"
      ]
     },
     "metadata": {},
     "output_type": "display_data"
    },
    {
     "data": {
      "application/vnd.jupyter.widget-view+json": {
       "model_id": "7ad90899112a4c6386cb622ea41f58cc",
       "version_major": 2,
       "version_minor": 0
      },
      "text/plain": [
       "interactive(children=(IntSlider(value=75, description='Fatia:', max=149), Output()), _dom_classes=('widget-int…"
      ]
     },
     "metadata": {},
     "output_type": "display_data"
    },
    {
     "data": {
      "application/vnd.jupyter.widget-view+json": {
       "model_id": "fc95ebac29b841f59fd08efb7cd4cbe4",
       "version_major": 2,
       "version_minor": 0
      },
      "text/plain": [
       "interactive(children=(IntSlider(value=75, description='Fatia:', max=149), Output()), _dom_classes=('widget-int…"
      ]
     },
     "metadata": {},
     "output_type": "display_data"
    },
    {
     "data": {
      "application/vnd.jupyter.widget-view+json": {
       "model_id": "453565a9c2dd4ab198750579c0f2c6fb",
       "version_major": 2,
       "version_minor": 0
      },
      "text/plain": [
       "interactive(children=(IntSlider(value=75, description='Fatia:', max=149), Output()), _dom_classes=('widget-int…"
      ]
     },
     "metadata": {},
     "output_type": "display_data"
    },
    {
     "data": {
      "application/vnd.jupyter.widget-view+json": {
       "model_id": "6e9ec976ad7849e3b7a87edec122f6dc",
       "version_major": 2,
       "version_minor": 0
      },
      "text/plain": [
       "interactive(children=(IntSlider(value=75, description='Fatia:', max=149), Output()), _dom_classes=('widget-int…"
      ]
     },
     "metadata": {},
     "output_type": "display_data"
    },
    {
     "data": {
      "application/vnd.jupyter.widget-view+json": {
       "model_id": "ebf1e01d5e7c481f8c3cad13ae812457",
       "version_major": 2,
       "version_minor": 0
      },
      "text/plain": [
       "interactive(children=(IntSlider(value=75, description='Fatia:', max=149), Output()), _dom_classes=('widget-int…"
      ]
     },
     "metadata": {},
     "output_type": "display_data"
    },
    {
     "data": {
      "application/vnd.jupyter.widget-view+json": {
       "model_id": "e68b4b9891a9423da2868020ccfb2d4c",
       "version_major": 2,
       "version_minor": 0
      },
      "text/plain": [
       "interactive(children=(IntSlider(value=75, description='Fatia:', max=149), Output()), _dom_classes=('widget-int…"
      ]
     },
     "metadata": {},
     "output_type": "display_data"
    },
    {
     "data": {
      "application/vnd.jupyter.widget-view+json": {
       "model_id": "4136233f08b24356865966b61ea46a21",
       "version_major": 2,
       "version_minor": 0
      },
      "text/plain": [
       "interactive(children=(IntSlider(value=75, description='Fatia:', max=149), Output()), _dom_classes=('widget-int…"
      ]
     },
     "metadata": {},
     "output_type": "display_data"
    },
    {
     "data": {
      "application/vnd.jupyter.widget-view+json": {
       "model_id": "6ab0ac5d0d354e77ad250a8a3a794113",
       "version_major": 2,
       "version_minor": 0
      },
      "text/plain": [
       "interactive(children=(IntSlider(value=75, description='Fatia:', max=149), Output()), _dom_classes=('widget-int…"
      ]
     },
     "metadata": {},
     "output_type": "display_data"
    },
    {
     "data": {
      "application/vnd.jupyter.widget-view+json": {
       "model_id": "7c9f723be4bb4ad19533ea8bc63afc8b",
       "version_major": 2,
       "version_minor": 0
      },
      "text/plain": [
       "interactive(children=(IntSlider(value=75, description='Fatia:', max=149), Output()), _dom_classes=('widget-int…"
      ]
     },
     "metadata": {},
     "output_type": "display_data"
    },
    {
     "data": {
      "application/vnd.jupyter.widget-view+json": {
       "model_id": "7a28f0e5a2b54290810004e97651d5a2",
       "version_major": 2,
       "version_minor": 0
      },
      "text/plain": [
       "interactive(children=(IntSlider(value=75, description='Fatia:', max=149), Output()), _dom_classes=('widget-int…"
      ]
     },
     "metadata": {},
     "output_type": "display_data"
    },
    {
     "data": {
      "application/vnd.jupyter.widget-view+json": {
       "model_id": "2886cc8c02694e9cbf3baa3a3603512f",
       "version_major": 2,
       "version_minor": 0
      },
      "text/plain": [
       "interactive(children=(IntSlider(value=75, description='Fatia:', max=149), Output()), _dom_classes=('widget-int…"
      ]
     },
     "metadata": {},
     "output_type": "display_data"
    },
    {
     "data": {
      "application/vnd.jupyter.widget-view+json": {
       "model_id": "38ff65429e614b8e997f76dbc84f98c0",
       "version_major": 2,
       "version_minor": 0
      },
      "text/plain": [
       "interactive(children=(IntSlider(value=75, description='Fatia:', max=149), Output()), _dom_classes=('widget-int…"
      ]
     },
     "metadata": {},
     "output_type": "display_data"
    }
   ],
   "source": [
    "for i in range (len(val_files)):\n",
    "    view_interactive_slices(val_dataset, val_labels, y_pred_valid, i)"
   ]
  },
  {
   "cell_type": "code",
   "execution_count": 14,
   "id": "e3d90b28",
   "metadata": {},
   "outputs": [
    {
     "data": {
      "application/vnd.jupyter.widget-view+json": {
       "model_id": "6608b61513314e1d815b73e7de64ca75",
       "version_major": 2,
       "version_minor": 0
      },
      "text/plain": [
       "interactive(children=(IntSlider(value=75, description='Fatia:', max=149), Output()), _dom_classes=('widget-int…"
      ]
     },
     "metadata": {},
     "output_type": "display_data"
    },
    {
     "data": {
      "application/vnd.jupyter.widget-view+json": {
       "model_id": "931ac7e4861f40b6ae019e654e0f01f2",
       "version_major": 2,
       "version_minor": 0
      },
      "text/plain": [
       "interactive(children=(IntSlider(value=75, description='Fatia:', max=149), Output()), _dom_classes=('widget-int…"
      ]
     },
     "metadata": {},
     "output_type": "display_data"
    },
    {
     "data": {
      "application/vnd.jupyter.widget-view+json": {
       "model_id": "c1b8950b15c84a42a0ccd27144877f4d",
       "version_major": 2,
       "version_minor": 0
      },
      "text/plain": [
       "interactive(children=(IntSlider(value=75, description='Fatia:', max=149), Output()), _dom_classes=('widget-int…"
      ]
     },
     "metadata": {},
     "output_type": "display_data"
    },
    {
     "data": {
      "application/vnd.jupyter.widget-view+json": {
       "model_id": "39201bcaae354266ba6cb753c11f62dc",
       "version_major": 2,
       "version_minor": 0
      },
      "text/plain": [
       "interactive(children=(IntSlider(value=75, description='Fatia:', max=149), Output()), _dom_classes=('widget-int…"
      ]
     },
     "metadata": {},
     "output_type": "display_data"
    },
    {
     "data": {
      "application/vnd.jupyter.widget-view+json": {
       "model_id": "4a7588b49c234a6588c81160a0206b48",
       "version_major": 2,
       "version_minor": 0
      },
      "text/plain": [
       "interactive(children=(IntSlider(value=75, description='Fatia:', max=149), Output()), _dom_classes=('widget-int…"
      ]
     },
     "metadata": {},
     "output_type": "display_data"
    },
    {
     "data": {
      "application/vnd.jupyter.widget-view+json": {
       "model_id": "6c8a40141274444ea685cd13dcb4dc33",
       "version_major": 2,
       "version_minor": 0
      },
      "text/plain": [
       "interactive(children=(IntSlider(value=75, description='Fatia:', max=149), Output()), _dom_classes=('widget-int…"
      ]
     },
     "metadata": {},
     "output_type": "display_data"
    },
    {
     "data": {
      "application/vnd.jupyter.widget-view+json": {
       "model_id": "1bf68606840d414ca42cf386d1d88644",
       "version_major": 2,
       "version_minor": 0
      },
      "text/plain": [
       "interactive(children=(IntSlider(value=75, description='Fatia:', max=149), Output()), _dom_classes=('widget-int…"
      ]
     },
     "metadata": {},
     "output_type": "display_data"
    },
    {
     "data": {
      "application/vnd.jupyter.widget-view+json": {
       "model_id": "c872c6ceae9449d58aeb37853ab4251c",
       "version_major": 2,
       "version_minor": 0
      },
      "text/plain": [
       "interactive(children=(IntSlider(value=75, description='Fatia:', max=149), Output()), _dom_classes=('widget-int…"
      ]
     },
     "metadata": {},
     "output_type": "display_data"
    },
    {
     "data": {
      "application/vnd.jupyter.widget-view+json": {
       "model_id": "119aafbf45214ed695a600e117d0eca6",
       "version_major": 2,
       "version_minor": 0
      },
      "text/plain": [
       "interactive(children=(IntSlider(value=75, description='Fatia:', max=149), Output()), _dom_classes=('widget-int…"
      ]
     },
     "metadata": {},
     "output_type": "display_data"
    },
    {
     "data": {
      "application/vnd.jupyter.widget-view+json": {
       "model_id": "c6ccac280dda4fa585432380b1cf2193",
       "version_major": 2,
       "version_minor": 0
      },
      "text/plain": [
       "interactive(children=(IntSlider(value=75, description='Fatia:', max=149), Output()), _dom_classes=('widget-int…"
      ]
     },
     "metadata": {},
     "output_type": "display_data"
    },
    {
     "data": {
      "application/vnd.jupyter.widget-view+json": {
       "model_id": "4e54f3fef7c24167b4a43d5650f0cd9d",
       "version_major": 2,
       "version_minor": 0
      },
      "text/plain": [
       "interactive(children=(IntSlider(value=75, description='Fatia:', max=149), Output()), _dom_classes=('widget-int…"
      ]
     },
     "metadata": {},
     "output_type": "display_data"
    },
    {
     "data": {
      "application/vnd.jupyter.widget-view+json": {
       "model_id": "0adef4c8b17c4fb0bbcd49bffdcb9798",
       "version_major": 2,
       "version_minor": 0
      },
      "text/plain": [
       "interactive(children=(IntSlider(value=75, description='Fatia:', max=149), Output()), _dom_classes=('widget-int…"
      ]
     },
     "metadata": {},
     "output_type": "display_data"
    },
    {
     "data": {
      "application/vnd.jupyter.widget-view+json": {
       "model_id": "1f8d7ed9b3c94fefbf771d4412874ce8",
       "version_major": 2,
       "version_minor": 0
      },
      "text/plain": [
       "interactive(children=(IntSlider(value=75, description='Fatia:', max=149), Output()), _dom_classes=('widget-int…"
      ]
     },
     "metadata": {},
     "output_type": "display_data"
    },
    {
     "data": {
      "application/vnd.jupyter.widget-view+json": {
       "model_id": "6bb7514f8f794c0fa98a0926579d91af",
       "version_major": 2,
       "version_minor": 0
      },
      "text/plain": [
       "interactive(children=(IntSlider(value=75, description='Fatia:', max=149), Output()), _dom_classes=('widget-int…"
      ]
     },
     "metadata": {},
     "output_type": "display_data"
    },
    {
     "data": {
      "application/vnd.jupyter.widget-view+json": {
       "model_id": "43790e5005dd4ec68f1b43ecd19c3ce3",
       "version_major": 2,
       "version_minor": 0
      },
      "text/plain": [
       "interactive(children=(IntSlider(value=75, description='Fatia:', max=149), Output()), _dom_classes=('widget-int…"
      ]
     },
     "metadata": {},
     "output_type": "display_data"
    },
    {
     "data": {
      "application/vnd.jupyter.widget-view+json": {
       "model_id": "fc2a96c12e3b4ffb9a8ba4919bf2e475",
       "version_major": 2,
       "version_minor": 0
      },
      "text/plain": [
       "interactive(children=(IntSlider(value=75, description='Fatia:', max=149), Output()), _dom_classes=('widget-int…"
      ]
     },
     "metadata": {},
     "output_type": "display_data"
    },
    {
     "data": {
      "application/vnd.jupyter.widget-view+json": {
       "model_id": "3ffd483c7b324fe6ab65511b67345dcd",
       "version_major": 2,
       "version_minor": 0
      },
      "text/plain": [
       "interactive(children=(IntSlider(value=75, description='Fatia:', max=149), Output()), _dom_classes=('widget-int…"
      ]
     },
     "metadata": {},
     "output_type": "display_data"
    },
    {
     "data": {
      "application/vnd.jupyter.widget-view+json": {
       "model_id": "62a5cfe40b7b494e9382d64aa3605d12",
       "version_major": 2,
       "version_minor": 0
      },
      "text/plain": [
       "interactive(children=(IntSlider(value=75, description='Fatia:', max=149), Output()), _dom_classes=('widget-int…"
      ]
     },
     "metadata": {},
     "output_type": "display_data"
    },
    {
     "data": {
      "application/vnd.jupyter.widget-view+json": {
       "model_id": "7e0622dced804612980fff8edc6ef151",
       "version_major": 2,
       "version_minor": 0
      },
      "text/plain": [
       "interactive(children=(IntSlider(value=75, description='Fatia:', max=149), Output()), _dom_classes=('widget-int…"
      ]
     },
     "metadata": {},
     "output_type": "display_data"
    },
    {
     "data": {
      "application/vnd.jupyter.widget-view+json": {
       "model_id": "4c4803cdf4184c46a5b89c8183e8cd0a",
       "version_major": 2,
       "version_minor": 0
      },
      "text/plain": [
       "interactive(children=(IntSlider(value=75, description='Fatia:', max=149), Output()), _dom_classes=('widget-int…"
      ]
     },
     "metadata": {},
     "output_type": "display_data"
    },
    {
     "data": {
      "application/vnd.jupyter.widget-view+json": {
       "model_id": "cfc1fef03de847c1a9bc13d3fb544722",
       "version_major": 2,
       "version_minor": 0
      },
      "text/plain": [
       "interactive(children=(IntSlider(value=75, description='Fatia:', max=149), Output()), _dom_classes=('widget-int…"
      ]
     },
     "metadata": {},
     "output_type": "display_data"
    },
    {
     "data": {
      "application/vnd.jupyter.widget-view+json": {
       "model_id": "a64e86ccfc96466f9d69f72af60eb4b9",
       "version_major": 2,
       "version_minor": 0
      },
      "text/plain": [
       "interactive(children=(IntSlider(value=75, description='Fatia:', max=149), Output()), _dom_classes=('widget-int…"
      ]
     },
     "metadata": {},
     "output_type": "display_data"
    },
    {
     "data": {
      "application/vnd.jupyter.widget-view+json": {
       "model_id": "6cc0290b2e484175b07a941f98cde362",
       "version_major": 2,
       "version_minor": 0
      },
      "text/plain": [
       "interactive(children=(IntSlider(value=75, description='Fatia:', max=149), Output()), _dom_classes=('widget-int…"
      ]
     },
     "metadata": {},
     "output_type": "display_data"
    },
    {
     "data": {
      "application/vnd.jupyter.widget-view+json": {
       "model_id": "54a788311b8f4ae59550a390e320f652",
       "version_major": 2,
       "version_minor": 0
      },
      "text/plain": [
       "interactive(children=(IntSlider(value=75, description='Fatia:', max=149), Output()), _dom_classes=('widget-int…"
      ]
     },
     "metadata": {},
     "output_type": "display_data"
    },
    {
     "data": {
      "application/vnd.jupyter.widget-view+json": {
       "model_id": "4a593b36b89b4fbb856e36678672acf7",
       "version_major": 2,
       "version_minor": 0
      },
      "text/plain": [
       "interactive(children=(IntSlider(value=75, description='Fatia:', max=149), Output()), _dom_classes=('widget-int…"
      ]
     },
     "metadata": {},
     "output_type": "display_data"
    },
    {
     "data": {
      "application/vnd.jupyter.widget-view+json": {
       "model_id": "d0ec3de650a84e7b961cfe81a6ecb1c1",
       "version_major": 2,
       "version_minor": 0
      },
      "text/plain": [
       "interactive(children=(IntSlider(value=75, description='Fatia:', max=149), Output()), _dom_classes=('widget-int…"
      ]
     },
     "metadata": {},
     "output_type": "display_data"
    },
    {
     "data": {
      "application/vnd.jupyter.widget-view+json": {
       "model_id": "d344acac10284c6f82bbad00e222d0e7",
       "version_major": 2,
       "version_minor": 0
      },
      "text/plain": [
       "interactive(children=(IntSlider(value=75, description='Fatia:', max=149), Output()), _dom_classes=('widget-int…"
      ]
     },
     "metadata": {},
     "output_type": "display_data"
    },
    {
     "data": {
      "application/vnd.jupyter.widget-view+json": {
       "model_id": "e1a57d293c8f4ac1a01c93074fc02b79",
       "version_major": 2,
       "version_minor": 0
      },
      "text/plain": [
       "interactive(children=(IntSlider(value=75, description='Fatia:', max=149), Output()), _dom_classes=('widget-int…"
      ]
     },
     "metadata": {},
     "output_type": "display_data"
    },
    {
     "data": {
      "application/vnd.jupyter.widget-view+json": {
       "model_id": "e8497a1879254b6b9842c9ae995ba0ff",
       "version_major": 2,
       "version_minor": 0
      },
      "text/plain": [
       "interactive(children=(IntSlider(value=75, description='Fatia:', max=149), Output()), _dom_classes=('widget-int…"
      ]
     },
     "metadata": {},
     "output_type": "display_data"
    },
    {
     "data": {
      "application/vnd.jupyter.widget-view+json": {
       "model_id": "2cc8655f29384f40bb5893409c6e5e5e",
       "version_major": 2,
       "version_minor": 0
      },
      "text/plain": [
       "interactive(children=(IntSlider(value=75, description='Fatia:', max=149), Output()), _dom_classes=('widget-int…"
      ]
     },
     "metadata": {},
     "output_type": "display_data"
    },
    {
     "data": {
      "application/vnd.jupyter.widget-view+json": {
       "model_id": "f9839da3e9214e978dd7063420d8dcb0",
       "version_major": 2,
       "version_minor": 0
      },
      "text/plain": [
       "interactive(children=(IntSlider(value=75, description='Fatia:', max=149), Output()), _dom_classes=('widget-int…"
      ]
     },
     "metadata": {},
     "output_type": "display_data"
    },
    {
     "data": {
      "application/vnd.jupyter.widget-view+json": {
       "model_id": "075180de709640548eaf1ca9c1422aa2",
       "version_major": 2,
       "version_minor": 0
      },
      "text/plain": [
       "interactive(children=(IntSlider(value=75, description='Fatia:', max=149), Output()), _dom_classes=('widget-int…"
      ]
     },
     "metadata": {},
     "output_type": "display_data"
    },
    {
     "data": {
      "application/vnd.jupyter.widget-view+json": {
       "model_id": "8fca30778af844fab113b91d5963344c",
       "version_major": 2,
       "version_minor": 0
      },
      "text/plain": [
       "interactive(children=(IntSlider(value=75, description='Fatia:', max=149), Output()), _dom_classes=('widget-int…"
      ]
     },
     "metadata": {},
     "output_type": "display_data"
    },
    {
     "data": {
      "application/vnd.jupyter.widget-view+json": {
       "model_id": "f5cff49a568149debc3f2b21cfb19fb2",
       "version_major": 2,
       "version_minor": 0
      },
      "text/plain": [
       "interactive(children=(IntSlider(value=75, description='Fatia:', max=149), Output()), _dom_classes=('widget-int…"
      ]
     },
     "metadata": {},
     "output_type": "display_data"
    },
    {
     "data": {
      "application/vnd.jupyter.widget-view+json": {
       "model_id": "76b8efbaed0b4464ada546455721c19a",
       "version_major": 2,
       "version_minor": 0
      },
      "text/plain": [
       "interactive(children=(IntSlider(value=75, description='Fatia:', max=149), Output()), _dom_classes=('widget-int…"
      ]
     },
     "metadata": {},
     "output_type": "display_data"
    },
    {
     "data": {
      "application/vnd.jupyter.widget-view+json": {
       "model_id": "63479d3c2348462ba7ba06799e835a6a",
       "version_major": 2,
       "version_minor": 0
      },
      "text/plain": [
       "interactive(children=(IntSlider(value=75, description='Fatia:', max=149), Output()), _dom_classes=('widget-int…"
      ]
     },
     "metadata": {},
     "output_type": "display_data"
    },
    {
     "data": {
      "application/vnd.jupyter.widget-view+json": {
       "model_id": "08593b863fa64fb5b2b7f014b214ebe3",
       "version_major": 2,
       "version_minor": 0
      },
      "text/plain": [
       "interactive(children=(IntSlider(value=75, description='Fatia:', max=149), Output()), _dom_classes=('widget-int…"
      ]
     },
     "metadata": {},
     "output_type": "display_data"
    },
    {
     "data": {
      "application/vnd.jupyter.widget-view+json": {
       "model_id": "fd2f7ab95c7c4d08a3ffdb5369379c18",
       "version_major": 2,
       "version_minor": 0
      },
      "text/plain": [
       "interactive(children=(IntSlider(value=75, description='Fatia:', max=149), Output()), _dom_classes=('widget-int…"
      ]
     },
     "metadata": {},
     "output_type": "display_data"
    },
    {
     "data": {
      "application/vnd.jupyter.widget-view+json": {
       "model_id": "dc2024c068b54554b4358071a44fdb5d",
       "version_major": 2,
       "version_minor": 0
      },
      "text/plain": [
       "interactive(children=(IntSlider(value=75, description='Fatia:', max=149), Output()), _dom_classes=('widget-int…"
      ]
     },
     "metadata": {},
     "output_type": "display_data"
    },
    {
     "data": {
      "application/vnd.jupyter.widget-view+json": {
       "model_id": "6167c9d2b57e4a08a2eb2e5ab91ae698",
       "version_major": 2,
       "version_minor": 0
      },
      "text/plain": [
       "interactive(children=(IntSlider(value=75, description='Fatia:', max=149), Output()), _dom_classes=('widget-int…"
      ]
     },
     "metadata": {},
     "output_type": "display_data"
    },
    {
     "data": {
      "application/vnd.jupyter.widget-view+json": {
       "model_id": "38ab05b17d4a4be4b60483609fc0b778",
       "version_major": 2,
       "version_minor": 0
      },
      "text/plain": [
       "interactive(children=(IntSlider(value=75, description='Fatia:', max=149), Output()), _dom_classes=('widget-int…"
      ]
     },
     "metadata": {},
     "output_type": "display_data"
    }
   ],
   "source": [
    "for i in range (len(file_list_original)):\n",
    "    view_interactive_slices(test_dataset, test_labels, y_pred_test, i)"
   ]
  }
 ],
 "metadata": {
  "kernelspec": {
   "display_name": "displasia",
   "language": "python",
   "name": "python3"
  },
  "language_info": {
   "codemirror_mode": {
    "name": "ipython",
    "version": 3
   },
   "file_extension": ".py",
   "mimetype": "text/x-python",
   "name": "python",
   "nbconvert_exporter": "python",
   "pygments_lexer": "ipython3",
   "version": "3.7.12"
  }
 },
 "nbformat": 4,
 "nbformat_minor": 5
}
