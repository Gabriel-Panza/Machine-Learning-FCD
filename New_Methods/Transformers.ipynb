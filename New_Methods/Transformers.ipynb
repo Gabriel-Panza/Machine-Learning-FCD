{
 "cells": [
  {
   "cell_type": "markdown",
   "id": "81807332",
   "metadata": {},
   "source": [
    "### Libraries Import"
   ]
  },
  {
   "cell_type": "code",
   "execution_count": 85,
   "id": "8db7e994",
   "metadata": {},
   "outputs": [],
   "source": [
    "# Importa todas as bibliotecas\n",
    "import nibabel as nib\n",
    "import numpy as np\n",
    "import SimpleITK as sitk\n",
    "import os\n",
    "import nrrd\n",
    "import tensorflow as tf\n",
    "from keras import layers\n",
    "from keras.models import Model\n",
    "from keras.layers import (\n",
    "    Input, Conv3D, MaxPooling3D, Concatenate, Add, ReLU, Activation,\n",
    "    BatchNormalization,GlobalAveragePooling1D, Dense, Dropout, LayerNormalization,\n",
    "    MultiHeadAttention, Reshape, AveragePooling3D\n",
    ")\n",
    "from sklearn.metrics import confusion_matrix, classification_report, ConfusionMatrixDisplay\n",
    "from sklearn.model_selection import train_test_split\n",
    "from scipy.ndimage import zoom\n",
    "import matplotlib.pyplot as plt\n",
    "from matplotlib.backends.backend_pdf import PdfPages\n",
    "import ipywidgets as widgets\n",
    "from ipywidgets import interact, IntSlider"
   ]
  },
  {
   "cell_type": "markdown",
   "id": "22644475",
   "metadata": {},
   "source": [
    "### Aux. Functions"
   ]
  },
  {
   "cell_type": "code",
   "execution_count": 86,
   "id": "30104676",
   "metadata": {},
   "outputs": [],
   "source": [
    "def load_data(image_dir, mask_dir):\n",
    "    \"\"\"\n",
    "    Encontra e pareia os caminhos das imagens com suas \n",
    "    respectivas máscaras de segmentação.\n",
    "    \"\"\"\n",
    "    file_list = []\n",
    "\n",
    "    # Garante que os arquivos estão ordenados para o pareamento correto\n",
    "    image_files = sorted(os.listdir(image_dir))\n",
    "    mask_files = sorted(os.listdir(mask_dir))\n",
    "\n",
    "    for image_file, mask_file in zip(image_files, mask_files):\n",
    "        image_path = os.path.join(image_dir, image_file)\n",
    "        mask_path = os.path.join(mask_dir, mask_file)\n",
    "        \n",
    "        if os.path.exists(mask_path):\n",
    "            # Ler a máscara para determinar o rótulo\n",
    "            mask_itk = sitk.ReadImage(mask_path)\n",
    "            mask_np = sitk.GetArrayFromImage(mask_itk)\n",
    "            \n",
    "            # O rótulo é 1 se houver qualquer pixel não-zero na máscara, senão 0\n",
    "            label = 1 if np.sum(mask_np) > 0 else 0\n",
    "            \n",
    "            file_list.append({\n",
    "                \"image\": image_path,\n",
    "                \"mask\": mask_path,\n",
    "                \"label\": label\n",
    "            })\n",
    "        else:\n",
    "            print(f\"Aviso: Máscara não encontrada para {image_path}\")\n",
    "            \n",
    "    return file_list\n",
    "\n",
    "def load_data_OpenNeuro(image_dir, file_list, label):\n",
    "    \"\"\"\n",
    "    Encontra e pareia os caminhos das imagens com suas \n",
    "    respectivas máscaras de segmentação.\n",
    "    \"\"\"\n",
    "\n",
    "    # Garante que os arquivos estão ordenados para o pareamento correto\n",
    "    image_files = sorted(os.listdir(image_dir))\n",
    "\n",
    "    for image_file in image_files:\n",
    "        image_path = os.path.join(image_dir, image_file)\n",
    "            \n",
    "        file_list.append({\n",
    "            \"image\": image_path,\n",
    "            \"mask\": None,\n",
    "            \"label\": label\n",
    "        })\n",
    "            \n",
    "    return file_list"
   ]
  },
  {
   "cell_type": "code",
   "execution_count": 87,
   "id": "7d86e27d",
   "metadata": {},
   "outputs": [],
   "source": [
    "def build_cnn_encoder(input_shape=(150, 150, 150, 2)):\n",
    "    inputs = Input(shape=input_shape)\n",
    "    \n",
    "    # Bloco 1\n",
    "    conv1 = Conv3D(8, 3, padding='same')(inputs)\n",
    "    conv1 = BatchNormalization()(conv1)\n",
    "    conv1 = Activation('relu')(conv1)\n",
    "    pool1 = MaxPooling3D(pool_size=2)(conv1)\n",
    "    pool1 = Dropout(0.3)(pool1)\n",
    "\n",
    "    # Bloco 2\n",
    "    conv2 = Conv3D(16, 3, padding='same')(pool1)\n",
    "    conv2 = BatchNormalization()(conv2)\n",
    "    conv2 = Activation('relu')(conv2)\n",
    "    pool2 = MaxPooling3D(pool_size=2)(conv2)\n",
    "    pool2 = Dropout(0.3)(pool2)\n",
    "\n",
    "    # Bloco 3\n",
    "    conv3 = Conv3D(32, 3, padding='same')(pool2)\n",
    "    conv3 = BatchNormalization()(conv3)\n",
    "    conv3 = Activation('relu')(conv3)\n",
    "    pool3 = MaxPooling3D(pool_size=2)(conv3)\n",
    "    pool3 = Dropout(0.3)(pool3)\n",
    "\n",
    "    # Bloco 4\n",
    "    conv4 = Conv3D(64, 3, padding='same')(pool3)\n",
    "    conv4 = BatchNormalization()(conv4)\n",
    "    conv4 = Activation('relu')(conv4)\n",
    "    conv4 = Conv3D(64, 3, padding='same')(conv4)\n",
    "    conv4 = BatchNormalization()(conv4)\n",
    "    conv4 = Activation('relu')(conv4)\n",
    "    pool4 = MaxPooling3D(pool_size=2)(conv4)\n",
    "    pool4 = Dropout(0.3)(pool4)\n",
    "\n",
    "    # Bloco 5\n",
    "    conv5 = Conv3D(128, 3, padding='same')(pool4)\n",
    "    conv5 = BatchNormalization()(conv5)\n",
    "    conv5 = Activation('relu')(conv5)\n",
    "    conv5 = Conv3D(128, 3, padding='same')(conv5)\n",
    "    conv5 = BatchNormalization()(conv5)\n",
    "    conv5 = Activation('relu')(conv5)\n",
    "\n",
    "    multiscale_features = [conv3, conv4, conv5]\n",
    "    \n",
    "    encoder = Model(inputs, multiscale_features, name=\"cnn_multiscale_encoder\")\n",
    "    return encoder\n",
    "\n",
    "class TransformerBlock(layers.Layer):\n",
    "    def __init__(self, embed_dim, num_heads, ff_dim, rate=0.1, **kwargs):\n",
    "        super(TransformerBlock, self).__init__(**kwargs)\n",
    "        self.att = MultiHeadAttention(num_heads=num_heads, key_dim=embed_dim)\n",
    "        self.ffn = tf.keras.Sequential(\n",
    "            [Dense(ff_dim, activation=\"relu\"), Dense(embed_dim),]\n",
    "        )\n",
    "        self.layernorm1 = LayerNormalization()\n",
    "        self.dropout1 = Dropout(rate)\n",
    "        self.layernorm2 = LayerNormalization()\n",
    "        self.dropout2 = Dropout(rate)\n",
    "\n",
    "    def call(self, inputs, training=False):\n",
    "        # --- Pre-Layer Norm 1 ---\n",
    "        inputs_norm1 = self.layernorm1(inputs) \n",
    "        attn_output = self.att(inputs_norm1, inputs_norm1)\n",
    "        # ----------------------\n",
    "        \n",
    "        attn_output = self.dropout1(attn_output, training=training)\n",
    "        out1 = inputs + attn_output\n",
    "        \n",
    "        # --- Pre-Layer Norm 2 ---\n",
    "        out1_norm2 = self.layernorm2(out1)\n",
    "        ffn_output = self.ffn(out1_norm2)\n",
    "        # ----------------------\n",
    "\n",
    "        ffn_output = self.dropout2(ffn_output, training=training)\n",
    "        return out1 + ffn_output\n",
    "    \n",
    "def build_hybrid_transformer_classifier(\n",
    "    input_shape=(150, 150, 150, 2), \n",
    "    num_transformer_blocks=4,\n",
    "    num_heads=4,\n",
    "    embed_dim=448,\n",
    "    ff_dim=448):\n",
    "\n",
    "    encoder = build_cnn_encoder(input_shape)\n",
    "    image_input = Input(shape=input_shape)\n",
    "    features_list = encoder(image_input)\n",
    "\n",
    "    resized_features = []\n",
    "    resized_features.append(AveragePooling3D(pool_size=4)(features_list[0])) \n",
    "    resized_features.append(AveragePooling3D(pool_size=2)(features_list[1])) \n",
    "    resized_features.append(features_list[2])\n",
    "\n",
    "    # ... depois de concatenar os features ...\n",
    "    concatenated_features = Concatenate(axis=-1)(resized_features)\n",
    "\n",
    "    # Achatamento\n",
    "    seq_length = concatenated_features.shape[1] * concatenated_features.shape[2] * concatenated_features.shape[3]\n",
    "    reshaped_features = Reshape((seq_length, concatenated_features.shape[-1]))(concatenated_features)\n",
    "\n",
    "    # Projeta os features da CNN para o espaço de embedding do Transformer\n",
    "    projection = Dense(embed_dim, name=\"feature_projection\")(reshaped_features)\n",
    "\n",
    "    # 1. Criar o token CLS como um vetor aprendível\n",
    "    cls_token = tf.Variable(tf.random.normal(shape=[1, 1, embed_dim]), trainable=True, name=\"cls_token\")\n",
    "\n",
    "    # 2. Replicar o CLS token para cada item no batch\n",
    "    batch_size = tf.shape(projection)[0]\n",
    "    cls_token_broadcasted = tf.broadcast_to(cls_token, [batch_size, 1, embed_dim])\n",
    "\n",
    "    # 3. Concatenar o CLS token no início da sequência de patches\n",
    "    x = Concatenate(axis=1)([cls_token_broadcasted, projection])\n",
    "\n",
    "    # 4. Adicionar o positional embedding a TODOS os tokens (CLS + patches)\n",
    "    positional_embedding = layers.Embedding(input_dim=seq_length + 1, output_dim=embed_dim)(tf.range(seq_length + 1))\n",
    "    x = x + positional_embedding\n",
    "\n",
    "    # ... (passa pelos blocos Transformer normalmente) ...\n",
    "    for _ in range(num_transformer_blocks):\n",
    "        x = TransformerBlock(embed_dim, num_heads, ff_dim)(x)\n",
    "\n",
    "    cls_output = x[:, 0]  # Shape: (batch, embed_dim)\n",
    "\n",
    "    x = Dropout(0.3)(cls_output)\n",
    "    x = Dense(ff_dim, activation=\"relu\")(x)\n",
    "    outputs = Dense(1, activation=\"sigmoid\")(x)\n",
    "\n",
    "    model = Model(inputs=image_input, outputs=outputs)\n",
    "    return model"
   ]
  },
  {
   "cell_type": "code",
   "execution_count": 88,
   "id": "7765bd0f",
   "metadata": {},
   "outputs": [],
   "source": [
    "# Função de plot do treinamento do modelo\n",
    "def plot_training_history(history):\n",
    "    plt.figure(figsize=(12, 4))\n",
    "\n",
    "    # Plot Loss\n",
    "    plt.subplot(1, 2, 1)\n",
    "    plt.plot(history.history['loss'], label='Training Loss')\n",
    "    if 'val_loss' in history.history:\n",
    "        plt.plot(history.history['val_loss'], label='Validation Loss')\n",
    "    plt.title('Loss Graphic')\n",
    "    plt.xlabel('Epochs')\n",
    "    plt.ylabel('Loss')\n",
    "    plt.legend()\n",
    "\n",
    "    # Plot Accuracy\n",
    "    plt.subplot(1, 2, 2)\n",
    "    plt.plot(history.history['accuracy'], label='Training Accuracy')\n",
    "    if 'val_accuracy' in history.history:\n",
    "        plt.plot(history.history['val_accuracy'], label='Validation Accuracy')\n",
    "    plt.title('Accuracy Graphic')\n",
    "    plt.xlabel('Epochs')\n",
    "    plt.ylabel('Accuracy')\n",
    "    plt.legend()\n",
    "\n",
    "    plt.show()\n",
    "\n",
    "# Função de plot da matriz de confusão\n",
    "def plot_confusion_matrix(y_true, y_pred):\n",
    "    cm = confusion_matrix(y_true, y_pred)\n",
    "    disp = ConfusionMatrixDisplay(confusion_matrix=cm)\n",
    "    disp.plot(cmap=plt.cm.Blues)\n",
    "    plt.title('Confusion Matrix')\n",
    "    plt.show()\n"
   ]
  },
  {
   "cell_type": "markdown",
   "id": "daadbb31",
   "metadata": {},
   "source": [
    "### Carregamento das imagens"
   ]
  },
  {
   "cell_type": "code",
   "execution_count": 89,
   "id": "e64a6d76",
   "metadata": {},
   "outputs": [],
   "source": [
    "# Carregar os pares de caminhos\n",
    "IMAGE_DIR = \"Patients_Displasya/T1\"\n",
    "IMAGE_DIR_CONTROL_OPENNEURO = \"Patients_Control_OpenNeuro/T1\"\n",
    "IMAGE_DIR_DISPLASYA_OPENNEURO = \"Patients_Displasya_OpenNeuro/T1\"\n",
    "\n",
    "MASK_DIR = \"Mascaras\"\n",
    "file_list_original = load_data(IMAGE_DIR, MASK_DIR)\n",
    "file_list = load_data_OpenNeuro(IMAGE_DIR_CONTROL_OPENNEURO, [], 0)\n",
    "file_list = load_data_OpenNeuro(IMAGE_DIR_DISPLASYA_OPENNEURO, file_list, 1)"
   ]
  },
  {
   "cell_type": "markdown",
   "id": "f62fe447",
   "metadata": {},
   "source": [
    "### Divisão das classes"
   ]
  },
  {
   "cell_type": "code",
   "execution_count": 90,
   "id": "64abd463",
   "metadata": {},
   "outputs": [
    {
     "name": "stdout",
     "output_type": "stream",
     "text": [
      "Total de amostras encontradas: 170\n",
      "Amostras com lesão (label 1): 85\n",
      "Amostras saudáveis (label 0): 85\n",
      "Amostras de treino: 127\n",
      "Amostras de validação: 43\n",
      "Amostras de teste: 41\n"
     ]
    }
   ],
   "source": [
    "# Verificar o balanceamento das classes\n",
    "labels = [item['label'] for item in file_list]\n",
    "print(f\"Total de amostras encontradas: {len(file_list)}\")\n",
    "print(f\"Amostras com lesão (label 1): {np.sum(labels)}\")\n",
    "print(f\"Amostras saudáveis (label 0): {len(labels) - np.sum(labels)}\")\n",
    "\n",
    "train_files, val_files = train_test_split(file_list, test_size=0.25, random_state=42, stratify=labels)\n",
    "\n",
    "print(f\"Amostras de treino: {len(train_files)}\")\n",
    "print(f\"Amostras de validação: {len(val_files)}\")\n",
    "print(f\"Amostras de teste: {len(file_list_original)}\")"
   ]
  },
  {
   "cell_type": "markdown",
   "id": "4d38d9c4",
   "metadata": {},
   "source": [
    "### Preparação do modelo + Treinamento"
   ]
  },
  {
   "cell_type": "code",
   "execution_count": 91,
   "id": "fcf94189",
   "metadata": {},
   "outputs": [
    {
     "name": "stdout",
     "output_type": "stream",
     "text": [
      "WARNING:tensorflow:\n",
      "The following Variables were used a Lambda layer's call (tf.broadcast_to_7), but\n",
      "are not present in its tracked objects:\n",
      "  <tf.Variable 'cls_token:0' shape=(1, 1, 448) dtype=float32>\n",
      "It is possible that this is intended behavior, but it is more likely\n",
      "an omission. This is a strong indication that this layer should be\n",
      "formulated as a subclassed Layer rather than a Lambda layer.\n",
      "Model: \"model_7\"\n",
      "__________________________________________________________________________________________________\n",
      "Layer (type)                    Output Shape         Param #     Connected to                     \n",
      "==================================================================================================\n",
      "input_16 (InputLayer)           [(None, 150, 150, 15 0                                            \n",
      "__________________________________________________________________________________________________\n",
      "cnn_multiscale_encoder (Functio [(None, 37, 37, 37,  849352      input_16[0][0]                   \n",
      "__________________________________________________________________________________________________\n",
      "average_pooling3d_14 (AveragePo (None, 9, 9, 9, 32)  0           cnn_multiscale_encoder[0][0]     \n",
      "__________________________________________________________________________________________________\n",
      "average_pooling3d_15 (AveragePo (None, 9, 9, 9, 64)  0           cnn_multiscale_encoder[0][1]     \n",
      "__________________________________________________________________________________________________\n",
      "concatenate_14 (Concatenate)    (None, 9, 9, 9, 224) 0           average_pooling3d_14[0][0]       \n",
      "                                                                 average_pooling3d_15[0][0]       \n",
      "                                                                 cnn_multiscale_encoder[0][2]     \n",
      "__________________________________________________________________________________________________\n",
      "reshape_7 (Reshape)             (None, 729, 224)     0           concatenate_14[0][0]             \n",
      "__________________________________________________________________________________________________\n",
      "feature_projection (Dense)      (None, 729, 448)     100800      reshape_7[0][0]                  \n",
      "__________________________________________________________________________________________________\n",
      "tf.compat.v1.shape_7 (TFOpLambd (3,)                 0           feature_projection[0][0]         \n",
      "__________________________________________________________________________________________________\n",
      "tf.__operators__.getitem_14 (Sl ()                   0           tf.compat.v1.shape_7[0][0]       \n",
      "__________________________________________________________________________________________________\n",
      "tf.broadcast_to_7 (TFOpLambda)  (None, 1, 448)       0           tf.__operators__.getitem_14[0][0]\n",
      "__________________________________________________________________________________________________\n",
      "concatenate_15 (Concatenate)    (None, 730, 448)     0           tf.broadcast_to_7[0][0]          \n",
      "                                                                 feature_projection[0][0]         \n",
      "__________________________________________________________________________________________________\n",
      "tf.__operators__.add_7 (TFOpLam (None, 730, 448)     0           concatenate_15[0][0]             \n",
      "__________________________________________________________________________________________________\n",
      "transformer_block_22 (Transform (None, 730, 448)     3621184     tf.__operators__.add_7[0][0]     \n",
      "__________________________________________________________________________________________________\n",
      "transformer_block_23 (Transform (None, 730, 448)     3621184     transformer_block_22[0][0]       \n",
      "__________________________________________________________________________________________________\n",
      "transformer_block_24 (Transform (None, 730, 448)     3621184     transformer_block_23[0][0]       \n",
      "__________________________________________________________________________________________________\n",
      "transformer_block_25 (Transform (None, 730, 448)     3621184     transformer_block_24[0][0]       \n",
      "__________________________________________________________________________________________________\n",
      "tf.__operators__.getitem_15 (Sl (None, 448)          0           transformer_block_25[0][0]       \n",
      "__________________________________________________________________________________________________\n",
      "dropout_63 (Dropout)            (None, 448)          0           tf.__operators__.getitem_15[0][0]\n",
      "__________________________________________________________________________________________________\n",
      "dense_66 (Dense)                (None, 448)          201152      dropout_63[0][0]                 \n",
      "__________________________________________________________________________________________________\n",
      "dense_67 (Dense)                (None, 1)            449         dense_66[0][0]                   \n",
      "==================================================================================================\n",
      "Total params: 15,636,489\n",
      "Trainable params: 15,635,609\n",
      "Non-trainable params: 880\n",
      "__________________________________________________________________________________________________\n"
     ]
    }
   ],
   "source": [
    "INPUT_SHAPE = (150, 150, 150, 2)\n",
    "\n",
    "# Construir o modelo híbrido\n",
    "model = build_hybrid_transformer_classifier(\n",
    "    input_shape=INPUT_SHAPE\n",
    ")\n",
    "\n",
    "model.summary()"
   ]
  },
  {
   "cell_type": "code",
   "execution_count": 92,
   "id": "60914291",
   "metadata": {},
   "outputs": [],
   "source": [
    "# Defina o shape final desejado\n",
    "TARGET_SHAPE_3D = (150, 150, 150)\n",
    "\n",
    "def load_and_preprocess_image(image_path, label):\n",
    "    def _read_and_resize_nifti(path):\n",
    "        # Decodificar o tensor de bytes para uma string Python\n",
    "        path = path.numpy().decode('utf-8')\n",
    "        \n",
    "        nifti_image = nib.load(path).get_fdata().astype(np.float32)\n",
    "        \n",
    "        # Obter a forma original e calcular o fator de zoom para cada eixo\n",
    "        original_shape = nifti_image.shape\n",
    "        zoom_factors = [\n",
    "            TARGET_SHAPE_3D[0] / original_shape[0],\n",
    "            TARGET_SHAPE_3D[1] / original_shape[1],\n",
    "            TARGET_SHAPE_3D[2] / original_shape[2]\n",
    "        ]\n",
    "        \n",
    "        resized_image = zoom(nifti_image, zoom_factors, order=1)\n",
    "        \n",
    "        return resized_image\n",
    "\n",
    "    image = tf.py_function(\n",
    "        func=_read_and_resize_nifti, \n",
    "        inp=[image_path], \n",
    "        Tout=tf.float32\n",
    "    )\n",
    "    \n",
    "    image.set_shape(TARGET_SHAPE_3D)\n",
    "    \n",
    "    # O resto do pré-processamento continua igual\n",
    "    image = tf.expand_dims(image, axis=-1)\n",
    "    image = tf.repeat(image, repeats=INPUT_SHAPE[3], axis=-1)\n",
    "    image = image / (tf.reduce_max(image) + 1e-6) \n",
    "    image.set_shape(INPUT_SHAPE)\n",
    "    \n",
    "    return image, label\n",
    "\n",
    "# Extrair os caminhos e rótulos das nossas listas\n",
    "train_paths = [item['image'] for item in train_files]\n",
    "train_labels = [item['label'] for item in train_files]\n",
    "val_paths = [item['image'] for item in val_files]\n",
    "val_labels = [item['label'] for item in val_files]\n",
    "test_paths = [item['image'] for item in file_list_original]\n",
    "test_labels = [item['label'] for item in file_list_original]\n",
    "\n",
    "# Definir o batch_size\n",
    "batch_size = 2\n",
    "\n",
    "# Criar o dataset de treino com .batch()\n",
    "train_dataset = tf.data.Dataset.from_tensor_slices((train_paths, train_labels))\n",
    "train_dataset = train_dataset.shuffle(buffer_size=len(train_paths))\n",
    "train_dataset = train_dataset.map(load_and_preprocess_image, num_parallel_calls=tf.data.AUTOTUNE)\n",
    "train_dataset = train_dataset.batch(batch_size)\n",
    "train_dataset = train_dataset.prefetch(buffer_size=tf.data.AUTOTUNE)\n",
    "\n",
    "# Criar o dataset de validação com .batch()\n",
    "val_dataset = tf.data.Dataset.from_tensor_slices((val_paths, val_labels))\n",
    "val_dataset = val_dataset.map(load_and_preprocess_image, num_parallel_calls=tf.data.AUTOTUNE)\n",
    "val_dataset = val_dataset.batch(batch_size)\n",
    "val_dataset = val_dataset.prefetch(buffer_size=tf.data.AUTOTUNE)\n",
    "\n",
    "# Criar o dataset de validação com .batch()\n",
    "test_dataset = tf.data.Dataset.from_tensor_slices((test_paths, test_labels))\n",
    "test_dataset = test_dataset.map(load_and_preprocess_image, num_parallel_calls=tf.data.AUTOTUNE)\n",
    "test_dataset = test_dataset.batch(batch_size)\n",
    "test_dataset = test_dataset.prefetch(buffer_size=tf.data.AUTOTUNE)"
   ]
  },
  {
   "cell_type": "code",
   "execution_count": 93,
   "id": "b18de94f",
   "metadata": {},
   "outputs": [
    {
     "name": "stdout",
     "output_type": "stream",
     "text": [
      "Epoch 1/100\n",
      "64/64 [==============================] - 36s 482ms/step - loss: 1.3812 - accuracy: 0.4724 - precision: 0.4762 - recall: 0.4688 - val_loss: 1.6740 - val_accuracy: 0.4884 - val_precision: 0.4884 - val_recall: 1.0000\n",
      "Epoch 2/100\n",
      "64/64 [==============================] - 45s 628ms/step - loss: 1.1604 - accuracy: 0.4094 - precision: 0.4225 - recall: 0.4688 - val_loss: 1.1357 - val_accuracy: 0.5116 - val_precision: 0.0000e+00 - val_recall: 0.0000e+00\n",
      "Epoch 3/100\n",
      "64/64 [==============================] - 45s 625ms/step - loss: 1.1938 - accuracy: 0.4409 - precision: 0.4386 - recall: 0.3906 - val_loss: 0.9216 - val_accuracy: 0.5116 - val_precision: 0.0000e+00 - val_recall: 0.0000e+00\n",
      "Epoch 4/100\n",
      "64/64 [==============================] - 47s 655ms/step - loss: 1.0773 - accuracy: 0.4882 - precision: 0.4930 - recall: 0.5469 - val_loss: 0.7658 - val_accuracy: 0.4884 - val_precision: 0.4884 - val_recall: 1.0000\n",
      "Epoch 5/100\n",
      "64/64 [==============================] - 46s 636ms/step - loss: 0.8814 - accuracy: 0.5118 - precision: 0.5167 - recall: 0.4844 - val_loss: 0.7255 - val_accuracy: 0.5116 - val_precision: 0.0000e+00 - val_recall: 0.0000e+00\n",
      "Epoch 6/100\n",
      "64/64 [==============================] - 44s 649ms/step - loss: 1.0470 - accuracy: 0.4803 - precision: 0.4853 - recall: 0.5156 - val_loss: 0.7022 - val_accuracy: 0.5116 - val_precision: 0.0000e+00 - val_recall: 0.0000e+00\n",
      "Epoch 7/100\n",
      "64/64 [==============================] - 43s 609ms/step - loss: 0.9879 - accuracy: 0.4882 - precision: 0.4918 - recall: 0.4688 - val_loss: 0.7145 - val_accuracy: 0.5116 - val_precision: 0.0000e+00 - val_recall: 0.0000e+00\n",
      "Epoch 8/100\n",
      "64/64 [==============================] - 45s 642ms/step - loss: 1.0202 - accuracy: 0.5118 - precision: 0.5167 - recall: 0.4844 - val_loss: 0.7055 - val_accuracy: 0.5116 - val_precision: 0.0000e+00 - val_recall: 0.0000e+00\n",
      "Epoch 9/100\n",
      "64/64 [==============================] - 43s 607ms/step - loss: 0.8142 - accuracy: 0.5197 - precision: 0.5231 - recall: 0.5312 - val_loss: 0.6971 - val_accuracy: 0.4884 - val_precision: 0.4884 - val_recall: 1.0000\n",
      "Epoch 10/100\n",
      "64/64 [==============================] - 43s 604ms/step - loss: 0.9545 - accuracy: 0.5276 - precision: 0.5333 - recall: 0.5000 - val_loss: 1.0275 - val_accuracy: 0.4884 - val_precision: 0.4884 - val_recall: 1.0000\n",
      "Epoch 11/100\n",
      "64/64 [==============================] - 44s 637ms/step - loss: 1.1912 - accuracy: 0.4567 - precision: 0.4627 - recall: 0.4844 - val_loss: 0.8751 - val_accuracy: 0.4884 - val_precision: 0.4884 - val_recall: 1.0000\n",
      "Epoch 12/100\n",
      "64/64 [==============================] - 46s 652ms/step - loss: 0.9999 - accuracy: 0.5197 - precision: 0.5231 - recall: 0.5312 - val_loss: 0.9475 - val_accuracy: 0.4884 - val_precision: 0.4884 - val_recall: 1.0000\n",
      "Epoch 13/100\n",
      "64/64 [==============================] - 46s 645ms/step - loss: 0.9442 - accuracy: 0.4567 - precision: 0.4576 - recall: 0.4219 - val_loss: 0.8459 - val_accuracy: 0.4884 - val_precision: 0.4884 - val_recall: 1.0000\n",
      "Epoch 14/100\n",
      "64/64 [==============================] - 48s 683ms/step - loss: 0.8493 - accuracy: 0.6063 - precision: 0.6094 - recall: 0.6094 - val_loss: 0.7053 - val_accuracy: 0.5116 - val_precision: 0.0000e+00 - val_recall: 0.0000e+00\n",
      "Epoch 15/100\n",
      "64/64 [==============================] - 47s 657ms/step - loss: 0.9725 - accuracy: 0.5039 - precision: 0.5075 - recall: 0.5312 - val_loss: 0.6948 - val_accuracy: 0.5116 - val_precision: 0.0000e+00 - val_recall: 0.0000e+00\n",
      "Epoch 16/100\n",
      "64/64 [==============================] - 46s 650ms/step - loss: 0.9086 - accuracy: 0.4882 - precision: 0.4918 - recall: 0.4688 - val_loss: 0.9170 - val_accuracy: 0.5116 - val_precision: 0.0000e+00 - val_recall: 0.0000e+00\n",
      "Epoch 17/100\n",
      "64/64 [==============================] - 47s 664ms/step - loss: 0.8418 - accuracy: 0.4724 - precision: 0.4746 - recall: 0.4375 - val_loss: 0.7856 - val_accuracy: 0.5116 - val_precision: 0.0000e+00 - val_recall: 0.0000e+00\n",
      "Epoch 18/100\n",
      "64/64 [==============================] - 46s 643ms/step - loss: 0.8148 - accuracy: 0.5118 - precision: 0.5167 - recall: 0.4844 - val_loss: 0.8297 - val_accuracy: 0.4884 - val_precision: 0.4884 - val_recall: 1.0000\n",
      "Epoch 19/100\n",
      "64/64 [==============================] - 47s 670ms/step - loss: 0.9220 - accuracy: 0.4882 - precision: 0.4928 - recall: 0.5312 - val_loss: 0.6999 - val_accuracy: 0.4884 - val_precision: 0.4884 - val_recall: 1.0000\n",
      "Epoch 20/100\n",
      "64/64 [==============================] - 47s 667ms/step - loss: 0.9076 - accuracy: 0.5118 - precision: 0.5152 - recall: 0.5312 - val_loss: 0.8912 - val_accuracy: 0.4884 - val_precision: 0.4884 - val_recall: 1.0000\n",
      "Epoch 21/100\n",
      "64/64 [==============================] - 46s 653ms/step - loss: 0.8238 - accuracy: 0.5591 - precision: 0.5588 - recall: 0.5938 - val_loss: 0.7310 - val_accuracy: 0.5116 - val_precision: 0.0000e+00 - val_recall: 0.0000e+00\n",
      "Epoch 22/100\n",
      "64/64 [==============================] - 47s 669ms/step - loss: 0.8186 - accuracy: 0.5984 - precision: 0.6182 - recall: 0.5312 - val_loss: 0.7417 - val_accuracy: 0.4884 - val_precision: 0.4884 - val_recall: 1.0000\n",
      "Epoch 23/100\n",
      "64/64 [==============================] - 47s 660ms/step - loss: 0.8282 - accuracy: 0.5512 - precision: 0.5522 - recall: 0.5781 - val_loss: 0.7266 - val_accuracy: 0.5116 - val_precision: 0.0000e+00 - val_recall: 0.0000e+00\n",
      "Epoch 24/100\n",
      "64/64 [==============================] - 47s 654ms/step - loss: 0.8377 - accuracy: 0.4803 - precision: 0.4815 - recall: 0.4062 - val_loss: 0.8760 - val_accuracy: 0.4884 - val_precision: 0.4884 - val_recall: 1.0000\n",
      "Epoch 25/100\n",
      "64/64 [==============================] - 46s 654ms/step - loss: 0.9185 - accuracy: 0.4961 - precision: 0.5000 - recall: 0.5312 - val_loss: 0.7245 - val_accuracy: 0.4884 - val_precision: 0.4884 - val_recall: 1.0000\n",
      "Epoch 26/100\n",
      "64/64 [==============================] - 46s 642ms/step - loss: 0.8176 - accuracy: 0.5354 - precision: 0.5410 - recall: 0.5156 - val_loss: 1.2819 - val_accuracy: 0.4884 - val_precision: 0.4884 - val_recall: 1.0000\n",
      "Epoch 27/100\n",
      "64/64 [==============================] - 46s 650ms/step - loss: 0.8613 - accuracy: 0.5354 - precision: 0.5373 - recall: 0.5625 - val_loss: 1.0992 - val_accuracy: 0.4884 - val_precision: 0.4884 - val_recall: 1.0000\n",
      "Epoch 28/100\n",
      "64/64 [==============================] - 45s 642ms/step - loss: 0.8848 - accuracy: 0.4803 - precision: 0.4848 - recall: 0.5000 - val_loss: 0.8767 - val_accuracy: 0.4884 - val_precision: 0.4884 - val_recall: 1.0000\n",
      "Epoch 29/100\n",
      "64/64 [==============================] - 46s 654ms/step - loss: 0.8162 - accuracy: 0.5276 - precision: 0.5294 - recall: 0.5625 - val_loss: 0.7175 - val_accuracy: 0.4186 - val_precision: 0.4500 - val_recall: 0.8571\n",
      "Epoch 30/100\n",
      "64/64 [==============================] - 46s 660ms/step - loss: 0.8195 - accuracy: 0.5669 - precision: 0.5672 - recall: 0.5938 - val_loss: 0.8318 - val_accuracy: 0.4884 - val_precision: 0.4884 - val_recall: 1.0000\n",
      "Epoch 31/100\n",
      "64/64 [==============================] - 47s 666ms/step - loss: 0.7755 - accuracy: 0.5748 - precision: 0.5694 - recall: 0.6406 - val_loss: 1.6853 - val_accuracy: 0.4884 - val_precision: 0.4884 - val_recall: 1.0000\n",
      "Epoch 32/100\n",
      "64/64 [==============================] - 47s 660ms/step - loss: 0.7547 - accuracy: 0.6457 - precision: 0.6338 - recall: 0.7031 - val_loss: 0.7343 - val_accuracy: 0.4884 - val_precision: 0.4884 - val_recall: 1.0000\n",
      "Epoch 33/100\n",
      "64/64 [==============================] - 46s 644ms/step - loss: 0.7941 - accuracy: 0.5512 - precision: 0.5574 - recall: 0.5312 - val_loss: 1.3326 - val_accuracy: 0.4884 - val_precision: 0.4884 - val_recall: 1.0000\n",
      "Epoch 34/100\n",
      "64/64 [==============================] - 47s 657ms/step - loss: 0.8065 - accuracy: 0.5748 - precision: 0.5758 - recall: 0.5938 - val_loss: 0.7107 - val_accuracy: 0.5116 - val_precision: 0.0000e+00 - val_recall: 0.0000e+00\n",
      "Epoch 35/100\n",
      "64/64 [==============================] - 46s 636ms/step - loss: 0.7103 - accuracy: 0.6063 - precision: 0.6029 - recall: 0.6406 - val_loss: 1.2640 - val_accuracy: 0.4884 - val_precision: 0.4884 - val_recall: 1.0000\n",
      "Epoch 36/100\n",
      "64/64 [==============================] - 43s 599ms/step - loss: 0.6729 - accuracy: 0.6457 - precision: 0.6667 - recall: 0.5938 - val_loss: 2.2661 - val_accuracy: 0.5116 - val_precision: 0.0000e+00 - val_recall: 0.0000e+00\n",
      "Epoch 37/100\n",
      "64/64 [==============================] - 44s 612ms/step - loss: 0.6781 - accuracy: 0.6614 - precision: 0.6615 - recall: 0.6719 - val_loss: 1.1315 - val_accuracy: 0.5116 - val_precision: 0.0000e+00 - val_recall: 0.0000e+00\n",
      "Epoch 38/100\n",
      "64/64 [==============================] - 44s 623ms/step - loss: 0.5882 - accuracy: 0.6378 - precision: 0.6406 - recall: 0.6406 - val_loss: 0.9225 - val_accuracy: 0.3953 - val_precision: 0.1429 - val_recall: 0.0476\n",
      "Epoch 39/100\n",
      "64/64 [==============================] - 46s 636ms/step - loss: 0.5885 - accuracy: 0.7244 - precision: 0.7377 - recall: 0.7031 - val_loss: 2.6464 - val_accuracy: 0.5116 - val_precision: 0.0000e+00 - val_recall: 0.0000e+00\n",
      "Epoch 40/100\n",
      "64/64 [==============================] - 46s 646ms/step - loss: 0.6234 - accuracy: 0.7244 - precision: 0.7736 - recall: 0.6406 - val_loss: 1.0649 - val_accuracy: 0.5116 - val_precision: 0.0000e+00 - val_recall: 0.0000e+00\n",
      "Epoch 41/100\n",
      "64/64 [==============================] - 45s 626ms/step - loss: 0.6799 - accuracy: 0.6299 - precision: 0.6604 - recall: 0.5469 - val_loss: 0.7030 - val_accuracy: 0.4884 - val_precision: 0.4884 - val_recall: 1.0000\n",
      "Epoch 42/100\n",
      "64/64 [==============================] - 44s 611ms/step - loss: 0.7681 - accuracy: 0.5354 - precision: 0.5397 - recall: 0.5312 - val_loss: 0.8352 - val_accuracy: 0.4419 - val_precision: 0.4634 - val_recall: 0.9048\n",
      "Epoch 43/100\n",
      "64/64 [==============================] - 45s 624ms/step - loss: 0.7361 - accuracy: 0.6142 - precision: 0.6230 - recall: 0.5938 - val_loss: 0.8976 - val_accuracy: 0.5116 - val_precision: 0.0000e+00 - val_recall: 0.0000e+00\n",
      "Epoch 44/100\n",
      "64/64 [==============================] - 45s 622ms/step - loss: 0.6358 - accuracy: 0.6614 - precision: 0.6780 - recall: 0.6250 - val_loss: 1.1339 - val_accuracy: 0.5116 - val_precision: 0.0000e+00 - val_recall: 0.0000e+00\n",
      "Epoch 45/100\n",
      "64/64 [==============================] - 45s 629ms/step - loss: 0.6057 - accuracy: 0.6850 - precision: 0.7222 - recall: 0.6094 - val_loss: 1.4059 - val_accuracy: 0.5116 - val_precision: 0.0000e+00 - val_recall: 0.0000e+00\n",
      "Epoch 46/100\n",
      "64/64 [==============================] - 55s 789ms/step - loss: 0.5718 - accuracy: 0.6772 - precision: 0.7347 - recall: 0.5625 - val_loss: 1.2664 - val_accuracy: 0.5116 - val_precision: 0.0000e+00 - val_recall: 0.0000e+00\n",
      "Epoch 47/100\n",
      "64/64 [==============================] - 46s 642ms/step - loss: 0.5538 - accuracy: 0.7402 - precision: 0.7818 - recall: 0.6719 - val_loss: 2.1639 - val_accuracy: 0.5116 - val_precision: 0.0000e+00 - val_recall: 0.0000e+00\n",
      "Epoch 48/100\n",
      "64/64 [==============================] - 44s 614ms/step - loss: 0.5463 - accuracy: 0.7165 - precision: 0.7333 - recall: 0.6875 - val_loss: 2.1308 - val_accuracy: 0.5116 - val_precision: 0.0000e+00 - val_recall: 0.0000e+00\n",
      "Epoch 49/100\n",
      "64/64 [==============================] - 45s 633ms/step - loss: 0.6506 - accuracy: 0.7480 - precision: 0.7424 - recall: 0.7656 - val_loss: 1.0210 - val_accuracy: 0.4186 - val_precision: 0.3889 - val_recall: 0.3333\n",
      "Epoch 50/100\n",
      "64/64 [==============================] - 45s 623ms/step - loss: 0.6288 - accuracy: 0.7165 - precision: 0.7258 - recall: 0.7031 - val_loss: 1.3967 - val_accuracy: 0.5116 - val_precision: 0.0000e+00 - val_recall: 0.0000e+00\n",
      "Epoch 51/100\n",
      "64/64 [==============================] - 45s 640ms/step - loss: 0.6371 - accuracy: 0.6693 - precision: 0.7200 - recall: 0.5625 - val_loss: 1.2214 - val_accuracy: 0.4884 - val_precision: 0.4884 - val_recall: 1.0000\n",
      "Epoch 52/100\n",
      "64/64 [==============================] - 45s 625ms/step - loss: 0.6514 - accuracy: 0.6693 - precision: 0.7037 - recall: 0.5938 - val_loss: 1.7501 - val_accuracy: 0.5116 - val_precision: 0.0000e+00 - val_recall: 0.0000e+00\n",
      "Epoch 53/100\n",
      "64/64 [==============================] - 47s 651ms/step - loss: 0.6390 - accuracy: 0.6535 - precision: 0.6667 - recall: 0.6250 - val_loss: 4.2230 - val_accuracy: 0.5116 - val_precision: 0.0000e+00 - val_recall: 0.0000e+00\n",
      "Epoch 54/100\n",
      "64/64 [==============================] - 44s 647ms/step - loss: 0.7407 - accuracy: 0.6772 - precision: 0.6825 - recall: 0.6719 - val_loss: 1.0927 - val_accuracy: 0.5116 - val_precision: 0.0000e+00 - val_recall: 0.0000e+00\n",
      "Epoch 55/100\n",
      "64/64 [==============================] - 46s 625ms/step - loss: 0.6243 - accuracy: 0.7008 - precision: 0.7600 - recall: 0.5938 - val_loss: 0.8288 - val_accuracy: 0.5116 - val_precision: 0.0000e+00 - val_recall: 0.0000e+00\n",
      "Epoch 56/100\n",
      "64/64 [==============================] - 46s 634ms/step - loss: 0.5635 - accuracy: 0.6772 - precision: 0.6769 - recall: 0.6875 - val_loss: 1.0927 - val_accuracy: 0.5116 - val_precision: 0.0000e+00 - val_recall: 0.0000e+00\n",
      "Epoch 57/100\n",
      "64/64 [==============================] - 46s 637ms/step - loss: 0.5644 - accuracy: 0.7087 - precision: 0.7547 - recall: 0.6250 - val_loss: 2.3471 - val_accuracy: 0.5116 - val_precision: 0.0000e+00 - val_recall: 0.0000e+00\n",
      "Epoch 58/100\n",
      "64/64 [==============================] - 44s 615ms/step - loss: 0.5709 - accuracy: 0.6929 - precision: 0.7551 - recall: 0.5781 - val_loss: 0.6908 - val_accuracy: 0.4884 - val_precision: 0.4884 - val_recall: 1.0000\n",
      "Epoch 59/100\n",
      "64/64 [==============================] - 46s 659ms/step - loss: 0.5636 - accuracy: 0.6850 - precision: 0.7069 - recall: 0.6406 - val_loss: 1.5346 - val_accuracy: 0.5116 - val_precision: 0.0000e+00 - val_recall: 0.0000e+00\n",
      "Epoch 60/100\n",
      "64/64 [==============================] - 44s 622ms/step - loss: 0.5321 - accuracy: 0.7087 - precision: 0.7647 - recall: 0.6094 - val_loss: 1.2227 - val_accuracy: 0.5116 - val_precision: 0.0000e+00 - val_recall: 0.0000e+00\n",
      "Epoch 61/100\n",
      "64/64 [==============================] - 1015s 16s/step - loss: 0.5270 - accuracy: 0.7402 - precision: 0.8039 - recall: 0.6406 - val_loss: 3.4201 - val_accuracy: 0.5116 - val_precision: 0.0000e+00 - val_recall: 0.0000e+00\n",
      "Epoch 62/100\n",
      "64/64 [==============================] - 44s 614ms/step - loss: 0.4871 - accuracy: 0.7323 - precision: 0.8000 - recall: 0.6250 - val_loss: 3.0417 - val_accuracy: 0.5116 - val_precision: 0.0000e+00 - val_recall: 0.0000e+00\n",
      "Epoch 63/100\n",
      "64/64 [==============================] - 44s 619ms/step - loss: 0.5187 - accuracy: 0.7008 - precision: 0.7600 - recall: 0.5938 - val_loss: 2.3858 - val_accuracy: 0.5116 - val_precision: 0.0000e+00 - val_recall: 0.0000e+00\n",
      "Epoch 64/100\n",
      "64/64 [==============================] - 46s 636ms/step - loss: 0.4913 - accuracy: 0.7480 - precision: 0.8478 - recall: 0.6094 - val_loss: 2.0676 - val_accuracy: 0.5116 - val_precision: 0.0000e+00 - val_recall: 0.0000e+00\n",
      "Epoch 65/100\n",
      "64/64 [==============================] - 45s 628ms/step - loss: 0.4693 - accuracy: 0.7008 - precision: 0.7407 - recall: 0.6250 - val_loss: 4.1188 - val_accuracy: 0.5116 - val_precision: 0.0000e+00 - val_recall: 0.0000e+00\n",
      "Epoch 66/100\n",
      "64/64 [==============================] - 45s 621ms/step - loss: 0.4609 - accuracy: 0.7244 - precision: 0.7843 - recall: 0.6250 - val_loss: 4.1516 - val_accuracy: 0.5116 - val_precision: 0.0000e+00 - val_recall: 0.0000e+00\n",
      "Epoch 67/100\n",
      "64/64 [==============================] - 167s 3s/step - loss: 0.5645 - accuracy: 0.7008 - precision: 0.7407 - recall: 0.6250 - val_loss: 3.4494 - val_accuracy: 0.5116 - val_precision: 0.0000e+00 - val_recall: 0.0000e+00\n",
      "Epoch 68/100\n",
      "64/64 [==============================] - 43s 604ms/step - loss: 0.6805 - accuracy: 0.6220 - precision: 0.6379 - recall: 0.5781 - val_loss: 3.9327 - val_accuracy: 0.5116 - val_precision: 0.0000e+00 - val_recall: 0.0000e+00\n",
      "Epoch 69/100\n",
      "64/64 [==============================] - 45s 624ms/step - loss: 0.6140 - accuracy: 0.6614 - precision: 0.6981 - recall: 0.5781 - val_loss: 2.4778 - val_accuracy: 0.5116 - val_precision: 0.0000e+00 - val_recall: 0.0000e+00\n",
      "Epoch 70/100\n",
      "64/64 [==============================] - 46s 636ms/step - loss: 0.5022 - accuracy: 0.7480 - precision: 0.7667 - recall: 0.7188 - val_loss: 3.4772 - val_accuracy: 0.5116 - val_precision: 0.0000e+00 - val_recall: 0.0000e+00\n",
      "Epoch 71/100\n",
      "64/64 [==============================] - 44s 622ms/step - loss: 0.5875 - accuracy: 0.6850 - precision: 0.7500 - recall: 0.5625 - val_loss: 1.8967 - val_accuracy: 0.5116 - val_precision: 0.0000e+00 - val_recall: 0.0000e+00\n",
      "Epoch 72/100\n",
      "64/64 [==============================] - 46s 655ms/step - loss: 0.6675 - accuracy: 0.7087 - precision: 0.7077 - recall: 0.7188 - val_loss: 1.7520 - val_accuracy: 0.5116 - val_precision: 0.0000e+00 - val_recall: 0.0000e+00\n",
      "Epoch 73/100\n",
      "64/64 [==============================] - 46s 632ms/step - loss: 0.4965 - accuracy: 0.7008 - precision: 0.7097 - recall: 0.6875 - val_loss: 2.1527 - val_accuracy: 0.5116 - val_precision: 0.0000e+00 - val_recall: 0.0000e+00\n",
      "Epoch 74/100\n",
      "64/64 [==============================] - 45s 639ms/step - loss: 0.5545 - accuracy: 0.7480 - precision: 0.8077 - recall: 0.6562 - val_loss: 1.9276 - val_accuracy: 0.5116 - val_precision: 0.0000e+00 - val_recall: 0.0000e+00\n",
      "Epoch 75/100\n",
      "64/64 [==============================] - 47s 671ms/step - loss: 0.5078 - accuracy: 0.7402 - precision: 0.7925 - recall: 0.6562 - val_loss: 2.5751 - val_accuracy: 0.5116 - val_precision: 0.0000e+00 - val_recall: 0.0000e+00\n",
      "Epoch 76/100\n",
      "64/64 [==============================] - 48s 662ms/step - loss: 0.4943 - accuracy: 0.7402 - precision: 0.8298 - recall: 0.6094 - val_loss: 2.0218 - val_accuracy: 0.5116 - val_precision: 0.0000e+00 - val_recall: 0.0000e+00\n",
      "Epoch 77/100\n",
      "64/64 [==============================] - 46s 670ms/step - loss: 0.5290 - accuracy: 0.7244 - precision: 0.7736 - recall: 0.6406 - val_loss: 2.4606 - val_accuracy: 0.5116 - val_precision: 0.0000e+00 - val_recall: 0.0000e+00\n",
      "Epoch 78/100\n",
      "64/64 [==============================] - 48s 673ms/step - loss: 0.4848 - accuracy: 0.7087 - precision: 0.7647 - recall: 0.6094 - val_loss: 2.4616 - val_accuracy: 0.5116 - val_precision: 0.0000e+00 - val_recall: 0.0000e+00\n",
      "Epoch 79/100\n",
      "64/64 [==============================] - 47s 667ms/step - loss: 0.5196 - accuracy: 0.7087 - precision: 0.7455 - recall: 0.6406 - val_loss: 2.5775 - val_accuracy: 0.5116 - val_precision: 0.0000e+00 - val_recall: 0.0000e+00\n",
      "Epoch 80/100\n",
      "64/64 [==============================] - 44s 653ms/step - loss: 0.6589 - accuracy: 0.6850 - precision: 0.7069 - recall: 0.6406 - val_loss: 1.2402 - val_accuracy: 0.4419 - val_precision: 0.4118 - val_recall: 0.3333\n",
      "Epoch 81/100\n",
      "64/64 [==============================] - 45s 625ms/step - loss: 0.5474 - accuracy: 0.7638 - precision: 0.8036 - recall: 0.7031 - val_loss: 1.5669 - val_accuracy: 0.4651 - val_precision: 0.3750 - val_recall: 0.1429\n",
      "Epoch 82/100\n",
      "64/64 [==============================] - 45s 628ms/step - loss: 0.5852 - accuracy: 0.6772 - precision: 0.6825 - recall: 0.6719 - val_loss: 1.8235 - val_accuracy: 0.3953 - val_precision: 0.4359 - val_recall: 0.8095\n",
      "Epoch 83/100\n",
      "64/64 [==============================] - 44s 612ms/step - loss: 0.6565 - accuracy: 0.6535 - precision: 0.6852 - recall: 0.5781 - val_loss: 1.8100 - val_accuracy: 0.4884 - val_precision: 0.4884 - val_recall: 1.0000\n",
      "Epoch 84/100\n",
      "64/64 [==============================] - 45s 634ms/step - loss: 0.6414 - accuracy: 0.6614 - precision: 0.6721 - recall: 0.6406 - val_loss: 0.8736 - val_accuracy: 0.3256 - val_precision: 0.3333 - val_recall: 0.3810\n",
      "Epoch 85/100\n",
      "64/64 [==============================] - 45s 622ms/step - loss: 0.6105 - accuracy: 0.7087 - precision: 0.7213 - recall: 0.6875 - val_loss: 0.8211 - val_accuracy: 0.3488 - val_precision: 0.3333 - val_recall: 0.3333\n",
      "Epoch 86/100\n",
      "64/64 [==============================] - 45s 626ms/step - loss: 0.4950 - accuracy: 0.7480 - precision: 0.8333 - recall: 0.6250 - val_loss: 1.1898 - val_accuracy: 0.5116 - val_precision: 0.0000e+00 - val_recall: 0.0000e+00\n",
      "Epoch 87/100\n",
      "64/64 [==============================] - 45s 638ms/step - loss: 0.5405 - accuracy: 0.7244 - precision: 0.7636 - recall: 0.6562 - val_loss: 1.7575 - val_accuracy: 0.5116 - val_precision: 0.0000e+00 - val_recall: 0.0000e+00\n",
      "Epoch 88/100\n",
      "64/64 [==============================] - 49s 707ms/step - loss: 0.4750 - accuracy: 0.7795 - precision: 0.8600 - recall: 0.6719 - val_loss: 1.0522 - val_accuracy: 0.4419 - val_precision: 0.4000 - val_recall: 0.2857\n",
      "Epoch 89/100\n",
      "64/64 [==============================] - 44s 623ms/step - loss: 0.4594 - accuracy: 0.7323 - precision: 0.7679 - recall: 0.6719 - val_loss: 4.4316 - val_accuracy: 0.5116 - val_precision: 0.0000e+00 - val_recall: 0.0000e+00\n",
      "Epoch 90/100\n",
      "64/64 [==============================] - 47s 660ms/step - loss: 0.5097 - accuracy: 0.7795 - precision: 0.8913 - recall: 0.6406 - val_loss: 1.0257 - val_accuracy: 0.3953 - val_precision: 0.3333 - val_recall: 0.2381\n",
      "Epoch 91/100\n",
      "64/64 [==============================] - 46s 641ms/step - loss: 0.5343 - accuracy: 0.7480 - precision: 0.7759 - recall: 0.7031 - val_loss: 1.1687 - val_accuracy: 0.3721 - val_precision: 0.4062 - val_recall: 0.6190\n",
      "Epoch 92/100\n",
      "64/64 [==============================] - 46s 645ms/step - loss: 0.4728 - accuracy: 0.7953 - precision: 0.8800 - recall: 0.6875 - val_loss: 0.9578 - val_accuracy: 0.3023 - val_precision: 0.3448 - val_recall: 0.4762\n",
      "Epoch 93/100\n",
      "64/64 [==============================] - 46s 640ms/step - loss: 0.4989 - accuracy: 0.6850 - precision: 0.7000 - recall: 0.6562 - val_loss: 1.3023 - val_accuracy: 0.5116 - val_precision: 0.0000e+00 - val_recall: 0.0000e+00\n",
      "Epoch 94/100\n",
      "64/64 [==============================] - 46s 641ms/step - loss: 0.4502 - accuracy: 0.8110 - precision: 0.8571 - recall: 0.7500 - val_loss: 3.6393 - val_accuracy: 0.5116 - val_precision: 0.0000e+00 - val_recall: 0.0000e+00\n",
      "Epoch 95/100\n",
      "64/64 [==============================] - 44s 615ms/step - loss: 0.5335 - accuracy: 0.7480 - precision: 0.7759 - recall: 0.7031 - val_loss: 2.6019 - val_accuracy: 0.5116 - val_precision: 0.0000e+00 - val_recall: 0.0000e+00\n",
      "Epoch 96/100\n",
      "64/64 [==============================] - 46s 642ms/step - loss: 0.4791 - accuracy: 0.7165 - precision: 0.7917 - recall: 0.5938 - val_loss: 4.4761 - val_accuracy: 0.5116 - val_precision: 0.0000e+00 - val_recall: 0.0000e+00\n",
      "Epoch 97/100\n",
      "64/64 [==============================] - 45s 636ms/step - loss: 0.4259 - accuracy: 0.8031 - precision: 0.8679 - recall: 0.7188 - val_loss: 3.2467 - val_accuracy: 0.5116 - val_precision: 0.0000e+00 - val_recall: 0.0000e+00\n",
      "Epoch 98/100\n",
      "64/64 [==============================] - 45s 645ms/step - loss: 0.5164 - accuracy: 0.7402 - precision: 0.7925 - recall: 0.6562 - val_loss: 2.7591 - val_accuracy: 0.5116 - val_precision: 0.0000e+00 - val_recall: 0.0000e+00\n",
      "Epoch 99/100\n",
      "64/64 [==============================] - 45s 627ms/step - loss: 0.5105 - accuracy: 0.7323 - precision: 0.8000 - recall: 0.6250 - val_loss: 2.4732 - val_accuracy: 0.5116 - val_precision: 0.0000e+00 - val_recall: 0.0000e+00\n",
      "Epoch 100/100\n",
      "64/64 [==============================] - 44s 621ms/step - loss: 0.4096 - accuracy: 0.7874 - precision: 0.8364 - recall: 0.7188 - val_loss: 1.9157 - val_accuracy: 0.4651 - val_precision: 0.4286 - val_recall: 0.2857\n",
      "Treinamento concluído.\n"
     ]
    }
   ],
   "source": [
    "# Compilando o modelo híbrido\n",
    "model.compile(\n",
    "    optimizer=tf.keras.optimizers.Adam(learning_rate=0.0001),\n",
    "    loss=\"binary_crossentropy\",\n",
    "    metrics=['accuracy', tf.keras.metrics.Precision(name=\"precision\"), tf.keras.metrics.Recall(name=\"recall\")]\n",
    ")\n",
    "\n",
    "# Histórico do treinamento\n",
    "history = model.fit(train_dataset, validation_data=val_dataset, epochs=100)\n",
    "\n",
    "print(\"Treinamento concluído.\")"
   ]
  },
  {
   "cell_type": "markdown",
   "id": "50d85de7",
   "metadata": {},
   "source": [
    "### Avaliação do treinamento do modelo"
   ]
  },
  {
   "cell_type": "code",
   "execution_count": 94,
   "id": "886a6482",
   "metadata": {},
   "outputs": [
    {
     "data": {
      "image/png": "[encoded data removed]",
      "text/plain": [
       "<Figure size 1200x400 with 2 Axes>"
      ]
     },
     "metadata": {},
     "output_type": "display_data"
    }
   ],
   "source": [
    "plot_training_history(history)"
   ]
  },
  {
   "cell_type": "code",
   "execution_count": 95,
   "id": "c48e75a1",
   "metadata": {},
   "outputs": [
    {
     "name": "stdout",
     "output_type": "stream",
     "text": [
      "Validação:\n",
      "              precision    recall  f1-score   support\n",
      "\n",
      "           0       0.48      0.64      0.55        22\n",
      "           1       0.43      0.29      0.34        21\n",
      "\n",
      "    accuracy                           0.47        43\n",
      "   macro avg       0.46      0.46      0.45        43\n",
      "weighted avg       0.46      0.47      0.45        43\n",
      "\n",
      "\n",
      "#########################################################\n",
      "\n",
      "Teste:\n",
      "              precision    recall  f1-score   support\n",
      "\n",
      "           0       0.00      0.00      0.00         0\n",
      "           1       1.00      0.15      0.26        41\n",
      "\n",
      "    accuracy                           0.15        41\n",
      "   macro avg       0.50      0.07      0.13        41\n",
      "weighted avg       1.00      0.15      0.26        41\n",
      "\n",
      "Validação:\n"
     ]
    },
    {
     "name": "stderr",
     "output_type": "stream",
     "text": [
      "c:\\Users\\gabri\\miniconda3\\envs\\displasia\\lib\\site-packages\\sklearn\\metrics\\_classification.py:1318: UndefinedMetricWarning: Recall and F-score are ill-defined and being set to 0.0 in labels with no true samples. Use `zero_division` parameter to control this behavior.\n",
      "  _warn_prf(average, modifier, msg_start, len(result))\n",
      "c:\\Users\\gabri\\miniconda3\\envs\\displasia\\lib\\site-packages\\sklearn\\metrics\\_classification.py:1318: UndefinedMetricWarning: Recall and F-score are ill-defined and being set to 0.0 in labels with no true samples. Use `zero_division` parameter to control this behavior.\n",
      "  _warn_prf(average, modifier, msg_start, len(result))\n",
      "c:\\Users\\gabri\\miniconda3\\envs\\displasia\\lib\\site-packages\\sklearn\\metrics\\_classification.py:1318: UndefinedMetricWarning: Recall and F-score are ill-defined and being set to 0.0 in labels with no true samples. Use `zero_division` parameter to control this behavior.\n",
      "  _warn_prf(average, modifier, msg_start, len(result))\n"
     ]
    },
    {
     "data": {
      "image/png": "[encoded data removed]",
      "text/plain": [
       "<Figure size 640x480 with 2 Axes>"
      ]
     },
     "metadata": {},
     "output_type": "display_data"
    },
    {
     "name": "stdout",
     "output_type": "stream",
     "text": [
      "Teste:\n"
     ]
    },
    {
     "data": {
      "image/png": "[encoded data removed]",
      "text/plain": [
       "<Figure size 640x480 with 2 Axes>"
      ]
     },
     "metadata": {},
     "output_type": "display_data"
    }
   ],
   "source": [
    "# Avaliar o modelo na validação e teste\n",
    "y_pred_valid = (model.predict(val_dataset) > 0.5).astype(int)\n",
    "y_pred_test = (model.predict(test_dataset) > 0.5).astype(int)\n",
    "\n",
    "# Gerar o relatório de classificação\n",
    "print(\"Validação:\")\n",
    "print(classification_report(val_labels, y_pred_valid))\n",
    "print(\"\\n#########################################################\\n\")\n",
    "\n",
    "print(\"Teste:\")\n",
    "print(classification_report(test_labels, y_pred_test)) \n",
    "\n",
    "# Gerar a matriz de confusão\n",
    "print(\"Validação:\")\n",
    "plot_confusion_matrix(val_labels, y_pred_valid)\n",
    "print(\"Teste:\")\n",
    "plot_confusion_matrix(test_labels, y_pred_test)"
   ]
  },
  {
   "cell_type": "markdown",
   "id": "2f8cc1e0",
   "metadata": {},
   "source": [
    "### Plot em PDF das Predições"
   ]
  },
  {
   "cell_type": "code",
   "execution_count": 96,
   "id": "b2ed9edf",
   "metadata": {},
   "outputs": [],
   "source": [
    "# Para garantir que os plots apareçam no notebook\n",
    "%matplotlib inline \n",
    "\n",
    "def view_interactive_slices(dataset, y_true, y_pred, patient_index):\n",
    "    \"\"\"\n",
    "    Cria um visualizador interativo com slider para um paciente específico.\n",
    "    \n",
    "    Args:\n",
    "        dataset (tf.data.Dataset): Dataset de onde extrair as imagens.\n",
    "        y_true (list or np.array): Lista de rótulos verdadeiros.\n",
    "        y_pred (np.array): Array de rótulos preditos.\n",
    "        patient_index (int): O índice do paciente/volume que você quer visualizar.\n",
    "    \"\"\"\n",
    "    \n",
    "    # 1. Encontrar a imagem correta no dataset\n",
    "    # O .unbatch() desfaz os lotes para acessarmos as imagens individualmente\n",
    "    image_3d_tensor = next(iter(dataset.unbatch().skip(patient_index).take(1)))[0]\n",
    "    image_3d = image_3d_tensor.numpy()\n",
    "    \n",
    "    # 2. Obter os rótulos\n",
    "    true_label = np.array(y_true)[patient_index]\n",
    "    predicted_label = y_pred[patient_index][0]\n",
    "\n",
    "    # 3. Extrair informações da imagem\n",
    "    num_slices = image_3d.shape[2]\n",
    "    \n",
    "    # 4. Definir a função que será chamada pelo slider\n",
    "    # Esta função será executada toda vez que o valor do slider mudar.\n",
    "    def plot_slice(slice_index):\n",
    "        # Seleciona e prepara a fatia 2D\n",
    "        image_slice_2d = image_3d[:, :, slice_index, 0]\n",
    "        image_slice_2d = np.rot90(image_slice_2d)\n",
    "        \n",
    "        # Cria a plotagem\n",
    "        fig, ax = plt.subplots(figsize=(8, 8))\n",
    "        ax.imshow(image_slice_2d, cmap='gray')\n",
    "        \n",
    "        # Título principal\n",
    "        title_text = f\"Paciente #{patient_index} | Predito: {predicted_label} | Verdadeiro: {true_label}\"\n",
    "        color = 'green' if predicted_label == true_label else 'red'\n",
    "        ax.set_title(title_text, color=color, fontsize=16)\n",
    "        \n",
    "        # Título da fatia\n",
    "        ax.text(5, 15, f\"Fatia: {slice_index}/{num_slices-1}\", color='white', \n",
    "                bbox=dict(facecolor='black', alpha=0.5))\n",
    "        \n",
    "        ax.axis('off')\n",
    "        plt.show()\n",
    "\n",
    "    # 5. Criar e conectar o slider à função de plotagem\n",
    "    interact(plot_slice, \n",
    "             slice_index=IntSlider(value=num_slices//2, min=0, max=num_slices-1, step=1, description='Fatia:'));\n"
   ]
  },
  {
   "cell_type": "code",
   "execution_count": 97,
   "id": "7407e0ae",
   "metadata": {},
   "outputs": [
    {
     "data": {
      "application/vnd.jupyter.widget-view+json": {
       "model_id": "a159354ec672499c99804b81cea02f99",
       "version_major": 2,
       "version_minor": 0
      },
      "text/plain": [
       "interactive(children=(IntSlider(value=75, description='Fatia:', max=149), Output()), _dom_classes=('widget-int…"
      ]
     },
     "metadata": {},
     "output_type": "display_data"
    },
    {
     "data": {
      "application/vnd.jupyter.widget-view+json": {
       "model_id": "14d0f12a58fe4b00a37765a48c87bb07",
       "version_major": 2,
       "version_minor": 0
      },
      "text/plain": [
       "interactive(children=(IntSlider(value=75, description='Fatia:', max=149), Output()), _dom_classes=('widget-int…"
      ]
     },
     "metadata": {},
     "output_type": "display_data"
    },
    {
     "data": {
      "application/vnd.jupyter.widget-view+json": {
       "model_id": "96b0ee7278fa48a89881349639a44b9c",
       "version_major": 2,
       "version_minor": 0
      },
      "text/plain": [
       "interactive(children=(IntSlider(value=75, description='Fatia:', max=149), Output()), _dom_classes=('widget-int…"
      ]
     },
     "metadata": {},
     "output_type": "display_data"
    },
    {
     "data": {
      "application/vnd.jupyter.widget-view+json": {
       "model_id": "4701b43b36ea40df81071388e0db59a3",
       "version_major": 2,
       "version_minor": 0
      },
      "text/plain": [
       "interactive(children=(IntSlider(value=75, description='Fatia:', max=149), Output()), _dom_classes=('widget-int…"
      ]
     },
     "metadata": {},
     "output_type": "display_data"
    },
    {
     "data": {
      "application/vnd.jupyter.widget-view+json": {
       "model_id": "a798be0dcc3946dfaa5cbead287380a1",
       "version_major": 2,
       "version_minor": 0
      },
      "text/plain": [
       "interactive(children=(IntSlider(value=75, description='Fatia:', max=149), Output()), _dom_classes=('widget-int…"
      ]
     },
     "metadata": {},
     "output_type": "display_data"
    },
    {
     "data": {
      "application/vnd.jupyter.widget-view+json": {
       "model_id": "8d0589c1c11e47a08a1b3e5740013154",
       "version_major": 2,
       "version_minor": 0
      },
      "text/plain": [
       "interactive(children=(IntSlider(value=75, description='Fatia:', max=149), Output()), _dom_classes=('widget-int…"
      ]
     },
     "metadata": {},
     "output_type": "display_data"
    },
    {
     "data": {
      "application/vnd.jupyter.widget-view+json": {
       "model_id": "12e43406411e4fed91bd03788c94190b",
       "version_major": 2,
       "version_minor": 0
      },
      "text/plain": [
       "interactive(children=(IntSlider(value=75, description='Fatia:', max=149), Output()), _dom_classes=('widget-int…"
      ]
     },
     "metadata": {},
     "output_type": "display_data"
    },
    {
     "data": {
      "application/vnd.jupyter.widget-view+json": {
       "model_id": "57b10a42f09c4c5fa9de65bd9a9495ba",
       "version_major": 2,
       "version_minor": 0
      },
      "text/plain": [
       "interactive(children=(IntSlider(value=75, description='Fatia:', max=149), Output()), _dom_classes=('widget-int…"
      ]
     },
     "metadata": {},
     "output_type": "display_data"
    },
    {
     "data": {
      "application/vnd.jupyter.widget-view+json": {
       "model_id": "d803196970b946b4bece7cc00387b702",
       "version_major": 2,
       "version_minor": 0
      },
      "text/plain": [
       "interactive(children=(IntSlider(value=75, description='Fatia:', max=149), Output()), _dom_classes=('widget-int…"
      ]
     },
     "metadata": {},
     "output_type": "display_data"
    },
    {
     "data": {
      "application/vnd.jupyter.widget-view+json": {
       "model_id": "bb359bc897d641b59270a72842a7e4a5",
       "version_major": 2,
       "version_minor": 0
      },
      "text/plain": [
       "interactive(children=(IntSlider(value=75, description='Fatia:', max=149), Output()), _dom_classes=('widget-int…"
      ]
     },
     "metadata": {},
     "output_type": "display_data"
    },
    {
     "data": {
      "application/vnd.jupyter.widget-view+json": {
       "model_id": "63fffd46effe47e18d79f3aa1888351e",
       "version_major": 2,
       "version_minor": 0
      },
      "text/plain": [
       "interactive(children=(IntSlider(value=75, description='Fatia:', max=149), Output()), _dom_classes=('widget-int…"
      ]
     },
     "metadata": {},
     "output_type": "display_data"
    },
    {
     "data": {
      "application/vnd.jupyter.widget-view+json": {
       "model_id": "e17ad866561f40e4925f0c87ae7657b0",
       "version_major": 2,
       "version_minor": 0
      },
      "text/plain": [
       "interactive(children=(IntSlider(value=75, description='Fatia:', max=149), Output()), _dom_classes=('widget-int…"
      ]
     },
     "metadata": {},
     "output_type": "display_data"
    },
    {
     "data": {
      "application/vnd.jupyter.widget-view+json": {
       "model_id": "9cc9b61605f14e83b84da1d7f2f4d909",
       "version_major": 2,
       "version_minor": 0
      },
      "text/plain": [
       "interactive(children=(IntSlider(value=75, description='Fatia:', max=149), Output()), _dom_classes=('widget-int…"
      ]
     },
     "metadata": {},
     "output_type": "display_data"
    },
    {
     "data": {
      "application/vnd.jupyter.widget-view+json": {
       "model_id": "04f58cb003544906921454008b6544c5",
       "version_major": 2,
       "version_minor": 0
      },
      "text/plain": [
       "interactive(children=(IntSlider(value=75, description='Fatia:', max=149), Output()), _dom_classes=('widget-int…"
      ]
     },
     "metadata": {},
     "output_type": "display_data"
    },
    {
     "data": {
      "application/vnd.jupyter.widget-view+json": {
       "model_id": "3662ce377b3745df9a04b7da53a74740",
       "version_major": 2,
       "version_minor": 0
      },
      "text/plain": [
       "interactive(children=(IntSlider(value=75, description='Fatia:', max=149), Output()), _dom_classes=('widget-int…"
      ]
     },
     "metadata": {},
     "output_type": "display_data"
    },
    {
     "data": {
      "application/vnd.jupyter.widget-view+json": {
       "model_id": "b20053fe1ffc4994ba8f02898359a30d",
       "version_major": 2,
       "version_minor": 0
      },
      "text/plain": [
       "interactive(children=(IntSlider(value=75, description='Fatia:', max=149), Output()), _dom_classes=('widget-int…"
      ]
     },
     "metadata": {},
     "output_type": "display_data"
    },
    {
     "data": {
      "application/vnd.jupyter.widget-view+json": {
       "model_id": "d9a273f3a8224200964f16f1e123d766",
       "version_major": 2,
       "version_minor": 0
      },
      "text/plain": [
       "interactive(children=(IntSlider(value=75, description='Fatia:', max=149), Output()), _dom_classes=('widget-int…"
      ]
     },
     "metadata": {},
     "output_type": "display_data"
    },
    {
     "data": {
      "application/vnd.jupyter.widget-view+json": {
       "model_id": "dc7e2c4ffc764d559b75f8633d7d00e5",
       "version_major": 2,
       "version_minor": 0
      },
      "text/plain": [
       "interactive(children=(IntSlider(value=75, description='Fatia:', max=149), Output()), _dom_classes=('widget-int…"
      ]
     },
     "metadata": {},
     "output_type": "display_data"
    },
    {
     "data": {
      "application/vnd.jupyter.widget-view+json": {
       "model_id": "7f285066464544239de95354dad65f56",
       "version_major": 2,
       "version_minor": 0
      },
      "text/plain": [
       "interactive(children=(IntSlider(value=75, description='Fatia:', max=149), Output()), _dom_classes=('widget-int…"
      ]
     },
     "metadata": {},
     "output_type": "display_data"
    },
    {
     "data": {
      "application/vnd.jupyter.widget-view+json": {
       "model_id": "0ca098d7c2cd4823954897eea38ff74d",
       "version_major": 2,
       "version_minor": 0
      },
      "text/plain": [
       "interactive(children=(IntSlider(value=75, description='Fatia:', max=149), Output()), _dom_classes=('widget-int…"
      ]
     },
     "metadata": {},
     "output_type": "display_data"
    },
    {
     "data": {
      "application/vnd.jupyter.widget-view+json": {
       "model_id": "2ca185d29b1e439fbbdf6ef90d6daf87",
       "version_major": 2,
       "version_minor": 0
      },
      "text/plain": [
       "interactive(children=(IntSlider(value=75, description='Fatia:', max=149), Output()), _dom_classes=('widget-int…"
      ]
     },
     "metadata": {},
     "output_type": "display_data"
    },
    {
     "data": {
      "application/vnd.jupyter.widget-view+json": {
       "model_id": "16ff88dac2c74ccda2d7cb10e2d061bd",
       "version_major": 2,
       "version_minor": 0
      },
      "text/plain": [
       "interactive(children=(IntSlider(value=75, description='Fatia:', max=149), Output()), _dom_classes=('widget-int…"
      ]
     },
     "metadata": {},
     "output_type": "display_data"
    },
    {
     "data": {
      "application/vnd.jupyter.widget-view+json": {
       "model_id": "785d378067f24a4db12b5b5ab5d42439",
       "version_major": 2,
       "version_minor": 0
      },
      "text/plain": [
       "interactive(children=(IntSlider(value=75, description='Fatia:', max=149), Output()), _dom_classes=('widget-int…"
      ]
     },
     "metadata": {},
     "output_type": "display_data"
    },
    {
     "data": {
      "application/vnd.jupyter.widget-view+json": {
       "model_id": "5ddc43abdd8a4582bf95617f1c39533c",
       "version_major": 2,
       "version_minor": 0
      },
      "text/plain": [
       "interactive(children=(IntSlider(value=75, description='Fatia:', max=149), Output()), _dom_classes=('widget-int…"
      ]
     },
     "metadata": {},
     "output_type": "display_data"
    },
    {
     "data": {
      "application/vnd.jupyter.widget-view+json": {
       "model_id": "fa1266afb3d641b6acfb630b6a852b9a",
       "version_major": 2,
       "version_minor": 0
      },
      "text/plain": [
       "interactive(children=(IntSlider(value=75, description='Fatia:', max=149), Output()), _dom_classes=('widget-int…"
      ]
     },
     "metadata": {},
     "output_type": "display_data"
    },
    {
     "data": {
      "application/vnd.jupyter.widget-view+json": {
       "model_id": "fe4ad280874d4add8d3b87e1999eaf61",
       "version_major": 2,
       "version_minor": 0
      },
      "text/plain": [
       "interactive(children=(IntSlider(value=75, description='Fatia:', max=149), Output()), _dom_classes=('widget-int…"
      ]
     },
     "metadata": {},
     "output_type": "display_data"
    },
    {
     "data": {
      "application/vnd.jupyter.widget-view+json": {
       "model_id": "9e4cde49dcf3437d9b3dd0fe18f103f3",
       "version_major": 2,
       "version_minor": 0
      },
      "text/plain": [
       "interactive(children=(IntSlider(value=75, description='Fatia:', max=149), Output()), _dom_classes=('widget-int…"
      ]
     },
     "metadata": {},
     "output_type": "display_data"
    },
    {
     "data": {
      "application/vnd.jupyter.widget-view+json": {
       "model_id": "51a657218f6949e485b73dafa5179228",
       "version_major": 2,
       "version_minor": 0
      },
      "text/plain": [
       "interactive(children=(IntSlider(value=75, description='Fatia:', max=149), Output()), _dom_classes=('widget-int…"
      ]
     },
     "metadata": {},
     "output_type": "display_data"
    },
    {
     "data": {
      "application/vnd.jupyter.widget-view+json": {
       "model_id": "3a7771ccdd094404a382c4308221bf74",
       "version_major": 2,
       "version_minor": 0
      },
      "text/plain": [
       "interactive(children=(IntSlider(value=75, description='Fatia:', max=149), Output()), _dom_classes=('widget-int…"
      ]
     },
     "metadata": {},
     "output_type": "display_data"
    },
    {
     "data": {
      "application/vnd.jupyter.widget-view+json": {
       "model_id": "0b23b7b548fb4859806487fda1a2b858",
       "version_major": 2,
       "version_minor": 0
      },
      "text/plain": [
       "interactive(children=(IntSlider(value=75, description='Fatia:', max=149), Output()), _dom_classes=('widget-int…"
      ]
     },
     "metadata": {},
     "output_type": "display_data"
    },
    {
     "data": {
      "application/vnd.jupyter.widget-view+json": {
       "model_id": "3821857a2787471d9fa77b1d4d4b5a15",
       "version_major": 2,
       "version_minor": 0
      },
      "text/plain": [
       "interactive(children=(IntSlider(value=75, description='Fatia:', max=149), Output()), _dom_classes=('widget-int…"
      ]
     },
     "metadata": {},
     "output_type": "display_data"
    },
    {
     "data": {
      "application/vnd.jupyter.widget-view+json": {
       "model_id": "f5c18415daa04f109e2606ef82ab84e2",
       "version_major": 2,
       "version_minor": 0
      },
      "text/plain": [
       "interactive(children=(IntSlider(value=75, description='Fatia:', max=149), Output()), _dom_classes=('widget-int…"
      ]
     },
     "metadata": {},
     "output_type": "display_data"
    },
    {
     "data": {
      "application/vnd.jupyter.widget-view+json": {
       "model_id": "c3d3d9d27e6946f199cf744fdb1850d5",
       "version_major": 2,
       "version_minor": 0
      },
      "text/plain": [
       "interactive(children=(IntSlider(value=75, description='Fatia:', max=149), Output()), _dom_classes=('widget-int…"
      ]
     },
     "metadata": {},
     "output_type": "display_data"
    },
    {
     "data": {
      "application/vnd.jupyter.widget-view+json": {
       "model_id": "c2d9bd04f13a4e069016881c3403e6cd",
       "version_major": 2,
       "version_minor": 0
      },
      "text/plain": [
       "interactive(children=(IntSlider(value=75, description='Fatia:', max=149), Output()), _dom_classes=('widget-int…"
      ]
     },
     "metadata": {},
     "output_type": "display_data"
    },
    {
     "data": {
      "application/vnd.jupyter.widget-view+json": {
       "model_id": "22239a1cdea2468997ecd391bfea89bf",
       "version_major": 2,
       "version_minor": 0
      },
      "text/plain": [
       "interactive(children=(IntSlider(value=75, description='Fatia:', max=149), Output()), _dom_classes=('widget-int…"
      ]
     },
     "metadata": {},
     "output_type": "display_data"
    },
    {
     "data": {
      "application/vnd.jupyter.widget-view+json": {
       "model_id": "8c542bb83f82411987fa81c39d6caf1c",
       "version_major": 2,
       "version_minor": 0
      },
      "text/plain": [
       "interactive(children=(IntSlider(value=75, description='Fatia:', max=149), Output()), _dom_classes=('widget-int…"
      ]
     },
     "metadata": {},
     "output_type": "display_data"
    },
    {
     "data": {
      "application/vnd.jupyter.widget-view+json": {
       "model_id": "5f3e04ec5561402dbd4e3e1de817e596",
       "version_major": 2,
       "version_minor": 0
      },
      "text/plain": [
       "interactive(children=(IntSlider(value=75, description='Fatia:', max=149), Output()), _dom_classes=('widget-int…"
      ]
     },
     "metadata": {},
     "output_type": "display_data"
    },
    {
     "data": {
      "application/vnd.jupyter.widget-view+json": {
       "model_id": "81512d04e4f742c8abfdf416cb7ab815",
       "version_major": 2,
       "version_minor": 0
      },
      "text/plain": [
       "interactive(children=(IntSlider(value=75, description='Fatia:', max=149), Output()), _dom_classes=('widget-int…"
      ]
     },
     "metadata": {},
     "output_type": "display_data"
    },
    {
     "data": {
      "application/vnd.jupyter.widget-view+json": {
       "model_id": "b17ff384d1034542bdb99c36858b9a68",
       "version_major": 2,
       "version_minor": 0
      },
      "text/plain": [
       "interactive(children=(IntSlider(value=75, description='Fatia:', max=149), Output()), _dom_classes=('widget-int…"
      ]
     },
     "metadata": {},
     "output_type": "display_data"
    },
    {
     "data": {
      "application/vnd.jupyter.widget-view+json": {
       "model_id": "1269685610e647bbb02991afe3a5a40b",
       "version_major": 2,
       "version_minor": 0
      },
      "text/plain": [
       "interactive(children=(IntSlider(value=75, description='Fatia:', max=149), Output()), _dom_classes=('widget-int…"
      ]
     },
     "metadata": {},
     "output_type": "display_data"
    },
    {
     "data": {
      "application/vnd.jupyter.widget-view+json": {
       "model_id": "d9ca7f8d7b0e46f583e809af129c28fc",
       "version_major": 2,
       "version_minor": 0
      },
      "text/plain": [
       "interactive(children=(IntSlider(value=75, description='Fatia:', max=149), Output()), _dom_classes=('widget-int…"
      ]
     },
     "metadata": {},
     "output_type": "display_data"
    },
    {
     "data": {
      "application/vnd.jupyter.widget-view+json": {
       "model_id": "faaa9d1264a94caf921ba2c6a438a293",
       "version_major": 2,
       "version_minor": 0
      },
      "text/plain": [
       "interactive(children=(IntSlider(value=75, description='Fatia:', max=149), Output()), _dom_classes=('widget-int…"
      ]
     },
     "metadata": {},
     "output_type": "display_data"
    },
    {
     "data": {
      "application/vnd.jupyter.widget-view+json": {
       "model_id": "8330e26ed8044daa8d0f74fae3c24250",
       "version_major": 2,
       "version_minor": 0
      },
      "text/plain": [
       "interactive(children=(IntSlider(value=75, description='Fatia:', max=149), Output()), _dom_classes=('widget-int…"
      ]
     },
     "metadata": {},
     "output_type": "display_data"
    }
   ],
   "source": [
    "for i in range (len(val_files)):\n",
    "    view_interactive_slices(val_dataset, val_labels, y_pred_valid, i)"
   ]
  },
  {
   "cell_type": "code",
   "execution_count": 98,
   "id": "e3d90b28",
   "metadata": {},
   "outputs": [
    {
     "data": {
      "application/vnd.jupyter.widget-view+json": {
       "model_id": "88c6e9020fc94e2fbd28be460089eda7",
       "version_major": 2,
       "version_minor": 0
      },
      "text/plain": [
       "interactive(children=(IntSlider(value=75, description='Fatia:', max=149), Output()), _dom_classes=('widget-int…"
      ]
     },
     "metadata": {},
     "output_type": "display_data"
    },
    {
     "data": {
      "application/vnd.jupyter.widget-view+json": {
       "model_id": "3cdc8fc8da144731bb5821cf7ba82027",
       "version_major": 2,
       "version_minor": 0
      },
      "text/plain": [
       "interactive(children=(IntSlider(value=75, description='Fatia:', max=149), Output()), _dom_classes=('widget-int…"
      ]
     },
     "metadata": {},
     "output_type": "display_data"
    },
    {
     "data": {
      "application/vnd.jupyter.widget-view+json": {
       "model_id": "4a4b0b825381486fa75633963de5b655",
       "version_major": 2,
       "version_minor": 0
      },
      "text/plain": [
       "interactive(children=(IntSlider(value=75, description='Fatia:', max=149), Output()), _dom_classes=('widget-int…"
      ]
     },
     "metadata": {},
     "output_type": "display_data"
    },
    {
     "data": {
      "application/vnd.jupyter.widget-view+json": {
       "model_id": "5c347a1b3b8b4f45b4107b888a34ffde",
       "version_major": 2,
       "version_minor": 0
      },
      "text/plain": [
       "interactive(children=(IntSlider(value=75, description='Fatia:', max=149), Output()), _dom_classes=('widget-int…"
      ]
     },
     "metadata": {},
     "output_type": "display_data"
    },
    {
     "data": {
      "application/vnd.jupyter.widget-view+json": {
       "model_id": "73465f781ec144ae899b10d0b43f173c",
       "version_major": 2,
       "version_minor": 0
      },
      "text/plain": [
       "interactive(children=(IntSlider(value=75, description='Fatia:', max=149), Output()), _dom_classes=('widget-int…"
      ]
     },
     "metadata": {},
     "output_type": "display_data"
    },
    {
     "data": {
      "application/vnd.jupyter.widget-view+json": {
       "model_id": "f1685c539cde490e8d80cd05d59d5a2e",
       "version_major": 2,
       "version_minor": 0
      },
      "text/plain": [
       "interactive(children=(IntSlider(value=75, description='Fatia:', max=149), Output()), _dom_classes=('widget-int…"
      ]
     },
     "metadata": {},
     "output_type": "display_data"
    },
    {
     "data": {
      "application/vnd.jupyter.widget-view+json": {
       "model_id": "9599ef0ac4d747aa876b3808a7ac20bb",
       "version_major": 2,
       "version_minor": 0
      },
      "text/plain": [
       "interactive(children=(IntSlider(value=75, description='Fatia:', max=149), Output()), _dom_classes=('widget-int…"
      ]
     },
     "metadata": {},
     "output_type": "display_data"
    },
    {
     "data": {
      "application/vnd.jupyter.widget-view+json": {
       "model_id": "6d351e8261bf444d87420cd1aeb801d4",
       "version_major": 2,
       "version_minor": 0
      },
      "text/plain": [
       "interactive(children=(IntSlider(value=75, description='Fatia:', max=149), Output()), _dom_classes=('widget-int…"
      ]
     },
     "metadata": {},
     "output_type": "display_data"
    },
    {
     "data": {
      "application/vnd.jupyter.widget-view+json": {
       "model_id": "2273c75bda154a70b73d79db4b9c2e43",
       "version_major": 2,
       "version_minor": 0
      },
      "text/plain": [
       "interactive(children=(IntSlider(value=75, description='Fatia:', max=149), Output()), _dom_classes=('widget-int…"
      ]
     },
     "metadata": {},
     "output_type": "display_data"
    },
    {
     "data": {
      "application/vnd.jupyter.widget-view+json": {
       "model_id": "af0ee7d63c6b4164885f396da8075764",
       "version_major": 2,
       "version_minor": 0
      },
      "text/plain": [
       "interactive(children=(IntSlider(value=75, description='Fatia:', max=149), Output()), _dom_classes=('widget-int…"
      ]
     },
     "metadata": {},
     "output_type": "display_data"
    },
    {
     "data": {
      "application/vnd.jupyter.widget-view+json": {
       "model_id": "dc7e552fed424152a7ac83762b5d4fe1",
       "version_major": 2,
       "version_minor": 0
      },
      "text/plain": [
       "interactive(children=(IntSlider(value=75, description='Fatia:', max=149), Output()), _dom_classes=('widget-int…"
      ]
     },
     "metadata": {},
     "output_type": "display_data"
    },
    {
     "data": {
      "application/vnd.jupyter.widget-view+json": {
       "model_id": "7bc9e86f3ccf4fedae922ad12a23cda1",
       "version_major": 2,
       "version_minor": 0
      },
      "text/plain": [
       "interactive(children=(IntSlider(value=75, description='Fatia:', max=149), Output()), _dom_classes=('widget-int…"
      ]
     },
     "metadata": {},
     "output_type": "display_data"
    },
    {
     "data": {
      "application/vnd.jupyter.widget-view+json": {
       "model_id": "8de12889dc5e4de4b81ef35dabab0d91",
       "version_major": 2,
       "version_minor": 0
      },
      "text/plain": [
       "interactive(children=(IntSlider(value=75, description='Fatia:', max=149), Output()), _dom_classes=('widget-int…"
      ]
     },
     "metadata": {},
     "output_type": "display_data"
    },
    {
     "data": {
      "application/vnd.jupyter.widget-view+json": {
       "model_id": "199efdfd4f9949afb68f7b31572c115e",
       "version_major": 2,
       "version_minor": 0
      },
      "text/plain": [
       "interactive(children=(IntSlider(value=75, description='Fatia:', max=149), Output()), _dom_classes=('widget-int…"
      ]
     },
     "metadata": {},
     "output_type": "display_data"
    },
    {
     "data": {
      "application/vnd.jupyter.widget-view+json": {
       "model_id": "41efac0dcd754be3b3dbf02381239e34",
       "version_major": 2,
       "version_minor": 0
      },
      "text/plain": [
       "interactive(children=(IntSlider(value=75, description='Fatia:', max=149), Output()), _dom_classes=('widget-int…"
      ]
     },
     "metadata": {},
     "output_type": "display_data"
    },
    {
     "data": {
      "application/vnd.jupyter.widget-view+json": {
       "model_id": "d1a0b42d61984050a1338330997c7931",
       "version_major": 2,
       "version_minor": 0
      },
      "text/plain": [
       "interactive(children=(IntSlider(value=75, description='Fatia:', max=149), Output()), _dom_classes=('widget-int…"
      ]
     },
     "metadata": {},
     "output_type": "display_data"
    },
    {
     "data": {
      "application/vnd.jupyter.widget-view+json": {
       "model_id": "c20600fe021e4de6a26867009c5e8320",
       "version_major": 2,
       "version_minor": 0
      },
      "text/plain": [
       "interactive(children=(IntSlider(value=75, description='Fatia:', max=149), Output()), _dom_classes=('widget-int…"
      ]
     },
     "metadata": {},
     "output_type": "display_data"
    },
    {
     "data": {
      "application/vnd.jupyter.widget-view+json": {
       "model_id": "b0214d6969894272857f04081c389142",
       "version_major": 2,
       "version_minor": 0
      },
      "text/plain": [
       "interactive(children=(IntSlider(value=75, description='Fatia:', max=149), Output()), _dom_classes=('widget-int…"
      ]
     },
     "metadata": {},
     "output_type": "display_data"
    },
    {
     "data": {
      "application/vnd.jupyter.widget-view+json": {
       "model_id": "7e639ecb51204402959a99ee7d67b2e2",
       "version_major": 2,
       "version_minor": 0
      },
      "text/plain": [
       "interactive(children=(IntSlider(value=75, description='Fatia:', max=149), Output()), _dom_classes=('widget-int…"
      ]
     },
     "metadata": {},
     "output_type": "display_data"
    },
    {
     "data": {
      "application/vnd.jupyter.widget-view+json": {
       "model_id": "6297e87e9a184e7aa8d22612c77a3158",
       "version_major": 2,
       "version_minor": 0
      },
      "text/plain": [
       "interactive(children=(IntSlider(value=75, description='Fatia:', max=149), Output()), _dom_classes=('widget-int…"
      ]
     },
     "metadata": {},
     "output_type": "display_data"
    },
    {
     "data": {
      "application/vnd.jupyter.widget-view+json": {
       "model_id": "fb723b1e7a074cf38f14c9fe351f3298",
       "version_major": 2,
       "version_minor": 0
      },
      "text/plain": [
       "interactive(children=(IntSlider(value=75, description='Fatia:', max=149), Output()), _dom_classes=('widget-int…"
      ]
     },
     "metadata": {},
     "output_type": "display_data"
    },
    {
     "data": {
      "application/vnd.jupyter.widget-view+json": {
       "model_id": "fb5151d1891b4c13a2d3454c02732ea2",
       "version_major": 2,
       "version_minor": 0
      },
      "text/plain": [
       "interactive(children=(IntSlider(value=75, description='Fatia:', max=149), Output()), _dom_classes=('widget-int…"
      ]
     },
     "metadata": {},
     "output_type": "display_data"
    },
    {
     "data": {
      "application/vnd.jupyter.widget-view+json": {
       "model_id": "2b27476e4118411c972e7642aa2ed343",
       "version_major": 2,
       "version_minor": 0
      },
      "text/plain": [
       "interactive(children=(IntSlider(value=75, description='Fatia:', max=149), Output()), _dom_classes=('widget-int…"
      ]
     },
     "metadata": {},
     "output_type": "display_data"
    },
    {
     "data": {
      "application/vnd.jupyter.widget-view+json": {
       "model_id": "dac28e95b77e4355877e9040ffa596af",
       "version_major": 2,
       "version_minor": 0
      },
      "text/plain": [
       "interactive(children=(IntSlider(value=75, description='Fatia:', max=149), Output()), _dom_classes=('widget-int…"
      ]
     },
     "metadata": {},
     "output_type": "display_data"
    },
    {
     "data": {
      "application/vnd.jupyter.widget-view+json": {
       "model_id": "c1c1fff40f9645f49b01bb57db55bf26",
       "version_major": 2,
       "version_minor": 0
      },
      "text/plain": [
       "interactive(children=(IntSlider(value=75, description='Fatia:', max=149), Output()), _dom_classes=('widget-int…"
      ]
     },
     "metadata": {},
     "output_type": "display_data"
    },
    {
     "data": {
      "application/vnd.jupyter.widget-view+json": {
       "model_id": "704af01de9e2455aa4b57ea538fa60e7",
       "version_major": 2,
       "version_minor": 0
      },
      "text/plain": [
       "interactive(children=(IntSlider(value=75, description='Fatia:', max=149), Output()), _dom_classes=('widget-int…"
      ]
     },
     "metadata": {},
     "output_type": "display_data"
    },
    {
     "data": {
      "application/vnd.jupyter.widget-view+json": {
       "model_id": "dce3e1a58a9347809b2b23967f350f10",
       "version_major": 2,
       "version_minor": 0
      },
      "text/plain": [
       "interactive(children=(IntSlider(value=75, description='Fatia:', max=149), Output()), _dom_classes=('widget-int…"
      ]
     },
     "metadata": {},
     "output_type": "display_data"
    },
    {
     "data": {
      "application/vnd.jupyter.widget-view+json": {
       "model_id": "f73ce0e498744f5596f5cdc476ae1e66",
       "version_major": 2,
       "version_minor": 0
      },
      "text/plain": [
       "interactive(children=(IntSlider(value=75, description='Fatia:', max=149), Output()), _dom_classes=('widget-int…"
      ]
     },
     "metadata": {},
     "output_type": "display_data"
    },
    {
     "data": {
      "application/vnd.jupyter.widget-view+json": {
       "model_id": "44a8fbecb36348e298306751556bd83a",
       "version_major": 2,
       "version_minor": 0
      },
      "text/plain": [
       "interactive(children=(IntSlider(value=75, description='Fatia:', max=149), Output()), _dom_classes=('widget-int…"
      ]
     },
     "metadata": {},
     "output_type": "display_data"
    },
    {
     "data": {
      "application/vnd.jupyter.widget-view+json": {
       "model_id": "fdf4744911bc4d038ad3cdddf705f3dd",
       "version_major": 2,
       "version_minor": 0
      },
      "text/plain": [
       "interactive(children=(IntSlider(value=75, description='Fatia:', max=149), Output()), _dom_classes=('widget-int…"
      ]
     },
     "metadata": {},
     "output_type": "display_data"
    },
    {
     "data": {
      "application/vnd.jupyter.widget-view+json": {
       "model_id": "0cffbb527d9c4326ac26c1706c4093c9",
       "version_major": 2,
       "version_minor": 0
      },
      "text/plain": [
       "interactive(children=(IntSlider(value=75, description='Fatia:', max=149), Output()), _dom_classes=('widget-int…"
      ]
     },
     "metadata": {},
     "output_type": "display_data"
    },
    {
     "data": {
      "application/vnd.jupyter.widget-view+json": {
       "model_id": "2ee7b1e4e98f4db2a9badd04b062c8d0",
       "version_major": 2,
       "version_minor": 0
      },
      "text/plain": [
       "interactive(children=(IntSlider(value=75, description='Fatia:', max=149), Output()), _dom_classes=('widget-int…"
      ]
     },
     "metadata": {},
     "output_type": "display_data"
    },
    {
     "data": {
      "application/vnd.jupyter.widget-view+json": {
       "model_id": "3c87120d2e0447ad98dcc3a42ddd82aa",
       "version_major": 2,
       "version_minor": 0
      },
      "text/plain": [
       "interactive(children=(IntSlider(value=75, description='Fatia:', max=149), Output()), _dom_classes=('widget-int…"
      ]
     },
     "metadata": {},
     "output_type": "display_data"
    },
    {
     "data": {
      "application/vnd.jupyter.widget-view+json": {
       "model_id": "95a68fdbc5504dc3b530247360a9358b",
       "version_major": 2,
       "version_minor": 0
      },
      "text/plain": [
       "interactive(children=(IntSlider(value=75, description='Fatia:', max=149), Output()), _dom_classes=('widget-int…"
      ]
     },
     "metadata": {},
     "output_type": "display_data"
    },
    {
     "data": {
      "application/vnd.jupyter.widget-view+json": {
       "model_id": "f56070cce7ed448390cadd501dafcdb4",
       "version_major": 2,
       "version_minor": 0
      },
      "text/plain": [
       "interactive(children=(IntSlider(value=75, description='Fatia:', max=149), Output()), _dom_classes=('widget-int…"
      ]
     },
     "metadata": {},
     "output_type": "display_data"
    },
    {
     "data": {
      "application/vnd.jupyter.widget-view+json": {
       "model_id": "d5bcc331a8934bb98d9e65fb1e865501",
       "version_major": 2,
       "version_minor": 0
      },
      "text/plain": [
       "interactive(children=(IntSlider(value=75, description='Fatia:', max=149), Output()), _dom_classes=('widget-int…"
      ]
     },
     "metadata": {},
     "output_type": "display_data"
    },
    {
     "data": {
      "application/vnd.jupyter.widget-view+json": {
       "model_id": "c110b4cb23cd4907b4f558432c32347a",
       "version_major": 2,
       "version_minor": 0
      },
      "text/plain": [
       "interactive(children=(IntSlider(value=75, description='Fatia:', max=149), Output()), _dom_classes=('widget-int…"
      ]
     },
     "metadata": {},
     "output_type": "display_data"
    },
    {
     "data": {
      "application/vnd.jupyter.widget-view+json": {
       "model_id": "54eb055fa38c433da91523861391722a",
       "version_major": 2,
       "version_minor": 0
      },
      "text/plain": [
       "interactive(children=(IntSlider(value=75, description='Fatia:', max=149), Output()), _dom_classes=('widget-int…"
      ]
     },
     "metadata": {},
     "output_type": "display_data"
    },
    {
     "data": {
      "application/vnd.jupyter.widget-view+json": {
       "model_id": "7835eb89af4744e5bd28d9e9e839ae5c",
       "version_major": 2,
       "version_minor": 0
      },
      "text/plain": [
       "interactive(children=(IntSlider(value=75, description='Fatia:', max=149), Output()), _dom_classes=('widget-int…"
      ]
     },
     "metadata": {},
     "output_type": "display_data"
    },
    {
     "data": {
      "application/vnd.jupyter.widget-view+json": {
       "model_id": "5006850fce29446690c315881d4eeb1d",
       "version_major": 2,
       "version_minor": 0
      },
      "text/plain": [
       "interactive(children=(IntSlider(value=75, description='Fatia:', max=149), Output()), _dom_classes=('widget-int…"
      ]
     },
     "metadata": {},
     "output_type": "display_data"
    },
    {
     "data": {
      "application/vnd.jupyter.widget-view+json": {
       "model_id": "ba784f7771c743b3a46d6463b973dccc",
       "version_major": 2,
       "version_minor": 0
      },
      "text/plain": [
       "interactive(children=(IntSlider(value=75, description='Fatia:', max=149), Output()), _dom_classes=('widget-int…"
      ]
     },
     "metadata": {},
     "output_type": "display_data"
    }
   ],
   "source": [
    "for i in range (len(file_list_original)):\n",
    "    view_interactive_slices(test_dataset, test_labels, y_pred_test, i)"
   ]
  }
 ],
 "metadata": {
  "kernelspec": {
   "display_name": "displasia",
   "language": "python",
   "name": "python3"
  },
  "language_info": {
   "codemirror_mode": {
    "name": "ipython",
    "version": 3
   },
   "file_extension": ".py",
   "mimetype": "text/x-python",
   "name": "python",
   "nbconvert_exporter": "python",
   "pygments_lexer": "ipython3",
   "version": "3.7.12"
  }
 },
 "nbformat": 4,
 "nbformat_minor": 5
}
